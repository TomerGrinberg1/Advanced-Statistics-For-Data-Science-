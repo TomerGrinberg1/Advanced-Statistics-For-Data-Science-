{
  "nbformat": 4,
  "nbformat_minor": 0,
  "metadata": {
    "colab": {
      "provenance": []
    },
    "kernelspec": {
      "name": "python3",
      "display_name": "Python 3"
    },
    "language_info": {
      "name": "python"
    }
  },
  "cells": [
    {
      "cell_type": "markdown",
      "source": [
        "#<h1>Linear Regression<h1>"
      ],
      "metadata": {
        "id": "Hsewp82trnwo"
      }
    },
    {
      "cell_type": "code",
      "execution_count": 1,
      "metadata": {
        "id": "WgcYksLMQuQp"
      },
      "outputs": [],
      "source": [
        "import numpy as np\n",
        "import pandas as pd\n",
        "import matplotlib.pyplot as plt\n",
        "from scipy.stats import t, f, norm, chi2\n",
        "\n",
        "import seaborn as sns\n",
        "from IPython.display import display_html \n",
        "from wordcloud import WordCloud, STOPWORDS, ImageColorGenerator\n",
        "import plotly.express as px"
      ]
    },
    {
      "cell_type": "code",
      "source": [
        "df=pd.read_csv('adult.csv')"
      ],
      "metadata": {
        "id": "yjikKJEdru6M"
      },
      "execution_count": 2,
      "outputs": []
    },
    {
      "cell_type": "markdown",
      "source": [
        "<div dir=\"rtl\">\n",
        "בחרנו בשלושת המשתנים המסבירים הבאים: גיל (age), מספר השכלה  (educational-num) מתאר את רמת ההשכלה של אדם בסט הנתונים בין 1-16 ורווחי הון (capital-gain).\n",
        "עבור המשתנה המוסבר בחרנו במספר שעות העבודה השבועיות(hours-per-week) .\n",
        "\n",
        "</div>"
      ],
      "metadata": {
        "id": "Q2LMoYYBvfsd"
      }
    },
    {
      "cell_type": "markdown",
      "source": [
        "##1."
      ],
      "metadata": {
        "id": "57xL8sBTvA6D"
      }
    },
    {
      "cell_type": "markdown",
      "source": [
        "\n",
        "<div dir=\"rtl\">\n",
        "\n",
        "שאלת המחקר שלנו האם יש קשר בין הגיל של אדם, רמת השכלתו ומצבו ורווחי ההון שלו למספר שעות העבודה השבועיות שלו.\n",
        "\n",
        "</div>"
      ],
      "metadata": {
        "id": "X1VCa54WvCqR"
      }
    },
    {
      "cell_type": "markdown",
      "source": [
        "##2."
      ],
      "metadata": {
        "id": "2DzULzIgaz9-"
      }
    },
    {
      "cell_type": "code",
      "source": [
        "sample = df.sample(n=200, random_state=42)"
      ],
      "metadata": {
        "id": "a3PsfFpAPn0d"
      },
      "execution_count": 3,
      "outputs": []
    },
    {
      "cell_type": "markdown",
      "source": [
        "<div dir=\"rtl\">\n",
        "<h3>\n",
        "עבור המשתנים המסבירים:\n",
        "<h3>\n",
        "</div>"
      ],
      "metadata": {
        "id": "SYkATs3ltBoe"
      }
    },
    {
      "cell_type": "markdown",
      "source": [
        "##3.a"
      ],
      "metadata": {
        "id": "dUa-pph_dQry"
      }
    },
    {
      "cell_type": "code",
      "source": [
        "#3.a\n",
        "fig, ax = plt.subplots(figsize =(10,7))\n",
        "N, bins, patches = ax.hist(sample[\"age\"], bins = 15 , edgecolor='black', linewidth=1.3)\n",
        "plt.title(\"Histogram of Age\",\\\n",
        "          fontdict={'fontsize': 23}, y = 1.1)\n",
        "plt.xlabel(\"Age\", fontdict={'fontsize': 14})\n",
        "plt.ylabel(\"Count\", fontdict={'fontsize': 14})\n",
        "plt.xticks(np.arange(10,100,step=5))\n",
        "fracs = ((N**(1 / 5)) / N.max())\n",
        "norm = plt.Normalize(fracs.min(), fracs.max())\n",
        " \n",
        "for thisfrac, thispatch in zip(fracs, patches):\n",
        "    color = plt.cm.viridis(norm(thisfrac))\n",
        "    thispatch.set_facecolor(color)\n",
        "    \n",
        "plt.show()"
      ],
      "metadata": {
        "colab": {
          "base_uri": "https://localhost:8080/",
          "height": 508
        },
        "id": "pL2Mm2Xhs5UF",
        "outputId": "b3d04b0a-b0d8-4f22-d011-f1625211ca03"
      },
      "execution_count": 4,
      "outputs": [
        {
          "output_type": "display_data",
          "data": {
            "text/plain": [
              "<Figure size 720x504 with 1 Axes>"
            ],
            "image/png": "[encoded data removed]"
          },
          "metadata": {
            "needs_background": "light"
          }
        }
      ]
    },
    {
      "cell_type": "code",
      "source": [
        "#style\n",
        "style = [{'selector': 'caption','props': [('background', '#ffdf80'),\\\n",
        "('color', 'Black'),('font-family', 'verdana'), (\"font-size\", \"150%\")]},\n",
        " {'selector': 'th','props': [('background', '#3399ff'), ('color', 'Black'),\\\n",
        "                             ('font-family', 'verdana'), (\"font-size\", \"130%\")]},\n",
        " {'selector': 'td','props': [('color', 'BLACK'),('font-family', 'verdana'), (\"font-size\", \"130%\")]},\n",
        " {'selector': 'tr:nth-of-type(odd)','props': [('background', 'WHITE')]}, \n",
        " {'selector': 'tr:nth-of-type(even)','props': [('background', 'WHITE')]},\n",
        " {'selector': 'tr:hover','props': [('background-color', '#80bfff')]}]\n"
      ],
      "metadata": {
        "id": "8F0imeBdkbjc"
      },
      "execution_count": 5,
      "outputs": []
    },
    {
      "cell_type": "code",
      "source": [
        "\n",
        "\n",
        "education_levels, counts = np.unique(sample['educational-num'], return_counts=True)\n",
        "levels=[]\n",
        "amount=[]\n",
        "for level, count in zip(education_levels, counts):\n",
        "    levels.append(level)\n",
        "    amount.append(count)\n",
        "table = pd.DataFrame({'educational-num': levels, 'Count': amount}).style.format(precision= 2).set_table_attributes(\"style='display:inline'\").\\\n",
        "set_caption('Table for educational-num').set_table_styles(style)\n",
        "display_html(table._repr_html_(), raw=True)\n"
      ],
      "metadata": {
        "colab": {
          "base_uri": "https://localhost:8080/",
          "height": 480
        },
        "id": "cZgh4HW1hliA",
        "outputId": "61a1382f-b08f-4893-bd3b-2911745659af"
      },
      "execution_count": 6,
      "outputs": [
        {
          "output_type": "display_data",
          "data": {
            "text/html": [
              "<style type=\"text/css\">\n",
              "#T_22e3b_ caption {\n",
              "  background: #ffdf80;\n",
              "  color: Black;\n",
              "  font-family: verdana;\n",
              "  font-size: 150%;\n",
              "}\n",
              "#T_22e3b_ th {\n",
              "  background: #3399ff;\n",
              "  color: Black;\n",
              "  font-family: verdana;\n",
              "  font-size: 130%;\n",
              "}\n",
              "#T_22e3b_ td {\n",
              "  color: BLACK;\n",
              "  font-family: verdana;\n",
              "  font-size: 130%;\n",
              "}\n",
              "#T_22e3b_ tr:nth-of-type(odd) {\n",
              "  background: WHITE;\n",
              "}\n",
              "#T_22e3b_ tr:nth-of-type(even) {\n",
              "  background: WHITE;\n",
              "}\n",
              "#T_22e3b_ tr:hover {\n",
              "  background-color: #80bfff;\n",
              "}\n",
              "</style>\n",
              "<table id=\"T_22e3b_\" style='display:inline'>\n",
              "  <caption>Table for educational-num</caption>\n",
              "  <thead>\n",
              "    <tr>\n",
              "      <th class=\"blank level0\" >&nbsp;</th>\n",
              "      <th class=\"col_heading level0 col0\" >educational-num</th>\n",
              "      <th class=\"col_heading level0 col1\" >Count</th>\n",
              "    </tr>\n",
              "  </thead>\n",
              "  <tbody>\n",
              "    <tr>\n",
              "      <th id=\"T_22e3b_level0_row0\" class=\"row_heading level0 row0\" >0</th>\n",
              "      <td id=\"T_22e3b_row0_col0\" class=\"data row0 col0\" >1</td>\n",
              "      <td id=\"T_22e3b_row0_col1\" class=\"data row0 col1\" >1</td>\n",
              "    </tr>\n",
              "    <tr>\n",
              "      <th id=\"T_22e3b_level0_row1\" class=\"row_heading level0 row1\" >1</th>\n",
              "      <td id=\"T_22e3b_row1_col0\" class=\"data row1 col0\" >3</td>\n",
              "      <td id=\"T_22e3b_row1_col1\" class=\"data row1 col1\" >5</td>\n",
              "    </tr>\n",
              "    <tr>\n",
              "      <th id=\"T_22e3b_level0_row2\" class=\"row_heading level0 row2\" >2</th>\n",
              "      <td id=\"T_22e3b_row2_col0\" class=\"data row2 col0\" >4</td>\n",
              "      <td id=\"T_22e3b_row2_col1\" class=\"data row2 col1\" >6</td>\n",
              "    </tr>\n",
              "    <tr>\n",
              "      <th id=\"T_22e3b_level0_row3\" class=\"row_heading level0 row3\" >3</th>\n",
              "      <td id=\"T_22e3b_row3_col0\" class=\"data row3 col0\" >5</td>\n",
              "      <td id=\"T_22e3b_row3_col1\" class=\"data row3 col1\" >2</td>\n",
              "    </tr>\n",
              "    <tr>\n",
              "      <th id=\"T_22e3b_level0_row4\" class=\"row_heading level0 row4\" >4</th>\n",
              "      <td id=\"T_22e3b_row4_col0\" class=\"data row4 col0\" >6</td>\n",
              "      <td id=\"T_22e3b_row4_col1\" class=\"data row4 col1\" >6</td>\n",
              "    </tr>\n",
              "    <tr>\n",
              "      <th id=\"T_22e3b_level0_row5\" class=\"row_heading level0 row5\" >5</th>\n",
              "      <td id=\"T_22e3b_row5_col0\" class=\"data row5 col0\" >7</td>\n",
              "      <td id=\"T_22e3b_row5_col1\" class=\"data row5 col1\" >7</td>\n",
              "    </tr>\n",
              "    <tr>\n",
              "      <th id=\"T_22e3b_level0_row6\" class=\"row_heading level0 row6\" >6</th>\n",
              "      <td id=\"T_22e3b_row6_col0\" class=\"data row6 col0\" >8</td>\n",
              "      <td id=\"T_22e3b_row6_col1\" class=\"data row6 col1\" >3</td>\n",
              "    </tr>\n",
              "    <tr>\n",
              "      <th id=\"T_22e3b_level0_row7\" class=\"row_heading level0 row7\" >7</th>\n",
              "      <td id=\"T_22e3b_row7_col0\" class=\"data row7 col0\" >9</td>\n",
              "      <td id=\"T_22e3b_row7_col1\" class=\"data row7 col1\" >70</td>\n",
              "    </tr>\n",
              "    <tr>\n",
              "      <th id=\"T_22e3b_level0_row8\" class=\"row_heading level0 row8\" >8</th>\n",
              "      <td id=\"T_22e3b_row8_col0\" class=\"data row8 col0\" >10</td>\n",
              "      <td id=\"T_22e3b_row8_col1\" class=\"data row8 col1\" >39</td>\n",
              "    </tr>\n",
              "    <tr>\n",
              "      <th id=\"T_22e3b_level0_row9\" class=\"row_heading level0 row9\" >9</th>\n",
              "      <td id=\"T_22e3b_row9_col0\" class=\"data row9 col0\" >11</td>\n",
              "      <td id=\"T_22e3b_row9_col1\" class=\"data row9 col1\" >8</td>\n",
              "    </tr>\n",
              "    <tr>\n",
              "      <th id=\"T_22e3b_level0_row10\" class=\"row_heading level0 row10\" >10</th>\n",
              "      <td id=\"T_22e3b_row10_col0\" class=\"data row10 col0\" >12</td>\n",
              "      <td id=\"T_22e3b_row10_col1\" class=\"data row10 col1\" >4</td>\n",
              "    </tr>\n",
              "    <tr>\n",
              "      <th id=\"T_22e3b_level0_row11\" class=\"row_heading level0 row11\" >11</th>\n",
              "      <td id=\"T_22e3b_row11_col0\" class=\"data row11 col0\" >13</td>\n",
              "      <td id=\"T_22e3b_row11_col1\" class=\"data row11 col1\" >41</td>\n",
              "    </tr>\n",
              "    <tr>\n",
              "      <th id=\"T_22e3b_level0_row12\" class=\"row_heading level0 row12\" >12</th>\n",
              "      <td id=\"T_22e3b_row12_col0\" class=\"data row12 col0\" >14</td>\n",
              "      <td id=\"T_22e3b_row12_col1\" class=\"data row12 col1\" >4</td>\n",
              "    </tr>\n",
              "    <tr>\n",
              "      <th id=\"T_22e3b_level0_row13\" class=\"row_heading level0 row13\" >13</th>\n",
              "      <td id=\"T_22e3b_row13_col0\" class=\"data row13 col0\" >15</td>\n",
              "      <td id=\"T_22e3b_row13_col1\" class=\"data row13 col1\" >1</td>\n",
              "    </tr>\n",
              "    <tr>\n",
              "      <th id=\"T_22e3b_level0_row14\" class=\"row_heading level0 row14\" >14</th>\n",
              "      <td id=\"T_22e3b_row14_col0\" class=\"data row14 col0\" >16</td>\n",
              "      <td id=\"T_22e3b_row14_col1\" class=\"data row14 col1\" >3</td>\n",
              "    </tr>\n",
              "  </tbody>\n",
              "</table>\n"
            ]
          },
          "metadata": {}
        }
      ]
    },
    {
      "cell_type": "code",
      "source": [
        "family_status, counts = np.unique(sample['gender'], return_counts=True)\n",
        "relationships=[]\n",
        "amount=[]\n",
        "for relationship, count in zip(family_status, counts):\n",
        "    relationships.append(relationship)\n",
        "    amount.append(count)\n",
        "table = pd.DataFrame({'relationship': relationships, 'Count': amount}).style.format(precision= 2).set_table_attributes(\"style='display:inline'\").\\\n",
        "set_caption('Table for relationship').set_table_styles(style)\n",
        "display_html(table._repr_html_(), raw=True)\n"
      ],
      "metadata": {
        "colab": {
          "base_uri": "https://localhost:8080/",
          "height": 147
        },
        "id": "x8AUnQ_DoaPF",
        "outputId": "c9f1a799-8111-47ea-ec71-756934d1768c"
      },
      "execution_count": 7,
      "outputs": [
        {
          "output_type": "display_data",
          "data": {
            "text/html": [
              "<style type=\"text/css\">\n",
              "#T_441f5_ caption {\n",
              "  background: #ffdf80;\n",
              "  color: Black;\n",
              "  font-family: verdana;\n",
              "  font-size: 150%;\n",
              "}\n",
              "#T_441f5_ th {\n",
              "  background: #3399ff;\n",
              "  color: Black;\n",
              "  font-family: verdana;\n",
              "  font-size: 130%;\n",
              "}\n",
              "#T_441f5_ td {\n",
              "  color: BLACK;\n",
              "  font-family: verdana;\n",
              "  font-size: 130%;\n",
              "}\n",
              "#T_441f5_ tr:nth-of-type(odd) {\n",
              "  background: WHITE;\n",
              "}\n",
              "#T_441f5_ tr:nth-of-type(even) {\n",
              "  background: WHITE;\n",
              "}\n",
              "#T_441f5_ tr:hover {\n",
              "  background-color: #80bfff;\n",
              "}\n",
              "</style>\n",
              "<table id=\"T_441f5_\" style='display:inline'>\n",
              "  <caption>Table for relationship</caption>\n",
              "  <thead>\n",
              "    <tr>\n",
              "      <th class=\"blank level0\" >&nbsp;</th>\n",
              "      <th class=\"col_heading level0 col0\" >relationship</th>\n",
              "      <th class=\"col_heading level0 col1\" >Count</th>\n",
              "    </tr>\n",
              "  </thead>\n",
              "  <tbody>\n",
              "    <tr>\n",
              "      <th id=\"T_441f5_level0_row0\" class=\"row_heading level0 row0\" >0</th>\n",
              "      <td id=\"T_441f5_row0_col0\" class=\"data row0 col0\" >Female</td>\n",
              "      <td id=\"T_441f5_row0_col1\" class=\"data row0 col1\" >61</td>\n",
              "    </tr>\n",
              "    <tr>\n",
              "      <th id=\"T_441f5_level0_row1\" class=\"row_heading level0 row1\" >1</th>\n",
              "      <td id=\"T_441f5_row1_col0\" class=\"data row1 col0\" >Male</td>\n",
              "      <td id=\"T_441f5_row1_col1\" class=\"data row1 col1\" >139</td>\n",
              "    </tr>\n",
              "  </tbody>\n",
              "</table>\n"
            ]
          },
          "metadata": {}
        }
      ]
    },
    {
      "cell_type": "markdown",
      "source": [
        "<div dir=\"rtl\">\n",
        "<h3>\n",
        "עבור המשתנה המוסבר:\n",
        "<h3>\n",
        "</div>"
      ],
      "metadata": {
        "id": "fjKNyJXXtWHN"
      }
    },
    {
      "cell_type": "code",
      "source": [
        " \n",
        "fig, ax = plt.subplots(figsize =(10,7))\n",
        "N, bins, patches = ax.hist(sample[\"hours-per-week\"], bins = 15 , edgecolor='black', linewidth=1.3)\n",
        "plt.title(\"Histogram of hours-per-week\",\\\n",
        "          fontdict={'fontsize': 23}, y = 1.1)\n",
        "plt.xlabel(\"hours-per-week\", fontdict={'fontsize': 14})\n",
        "plt.ylabel(\"Count\", fontdict={'fontsize': 14})\n",
        "plt.xticks(np.arange(10,100,step=5))\n",
        "fracs = ((N**(1 / 5)) / N.max())\n",
        "norm = plt.Normalize(fracs.min(), fracs.max())\n",
        " \n",
        "for thisfrac, thispatch in zip(fracs, patches):\n",
        "    color = plt.cm.viridis(norm(thisfrac))\n",
        "    thispatch.set_facecolor(color)\n",
        "plt.show()"
      ],
      "metadata": {
        "colab": {
          "base_uri": "https://localhost:8080/",
          "height": 508
        },
        "id": "r5tPjXoktZ1w",
        "outputId": "d2bbb077-4d0f-4074-e81a-c974dc4101db"
      },
      "execution_count": 8,
      "outputs": [
        {
          "output_type": "display_data",
          "data": {
            "text/plain": [
              "<Figure size 720x504 with 1 Axes>"
            ],
            "image/png": "[encoded data removed]"
          },
          "metadata": {
            "needs_background": "light"
          }
        }
      ]
    },
    {
      "cell_type": "markdown",
      "source": [
        "##3.b \n"
      ],
      "metadata": {
        "id": "CbVwpkZBuLJ7"
      }
    },
    {
      "cell_type": "markdown",
      "source": [
        "<div dir=\"rtl\">\n",
        "מבחינת נתונים חסרים - אין, במשתנה capital-gain 92% מהערכים הם 0, אך זה לא משהו חריג כי הרוב פשוט ללא רווח צדדי, במשתנה המוסבר - מספר שעות העבודה השבועיות הרוב המוחלט הינו באזור של הערך 40. התפלגויות כל המשתנים הללו אינה נראית סימטרית לפי ההיסטוגרמות ואפילו אפשר לומר שההתפלגות של המשתנה גיל הינו התפלגות א-סימטרית עם זנב ימני.\n",
        "</div>"
      ],
      "metadata": {
        "id": "CNyJMQfoc3iC"
      }
    },
    {
      "cell_type": "markdown",
      "source": [
        "##3.c"
      ],
      "metadata": {
        "id": "ZIuZjCRQded0"
      }
    },
    {
      "cell_type": "code",
      "source": [
        "# 3.c\n",
        "\n",
        "sns.scatterplot(data=sample,x=\"age\", y=\"hours-per-week\" )\n",
        "sns.regplot(x=sample['age'], y=sample['hours-per-week'])\n",
        "\n",
        "plt.title(\"The ralation between age and hours oer week \")\n",
        "plt.xlabel=(\"age\")\n",
        "plt.ylabel=(\"hours per week\")\n"
      ],
      "metadata": {
        "colab": {
          "base_uri": "https://localhost:8080/",
          "height": 295
        },
        "id": "QNOFWNM_uNoD",
        "outputId": "124a6c94-c067-4e4f-cbfe-24719dd2e78b"
      },
      "execution_count": 9,
      "outputs": [
        {
          "output_type": "display_data",
          "data": {
            "text/plain": [
              "<Figure size 432x288 with 1 Axes>"
            ],
            "image/png": "[encoded data removed]"
          },
          "metadata": {
            "needs_background": "light"
          }
        }
      ]
    },
    {
      "cell_type": "markdown",
      "source": [
        "<div dir=\"rtl\">\n",
        "יש קשר לינארי עולה בין הגיל למספר שעות העבודה השבועיות.</br>\n",
        "נשים לב שככל שהגיל עולה כך גם מספר שעות העבודה השבועיות עולה אך עדיין רוב התצפיות הם באזור של 40 שעות עבודה שבועויות ולכן העלייה מזערית.\n",
        "</div>"
      ],
      "metadata": {
        "id": "PJuljoWDzqkQ"
      }
    },
    {
      "cell_type": "code",
      "source": [
        "\n",
        "# histogram\n",
        "\n",
        "grouped_data = sample.groupby('educational-num')\n",
        "\n",
        "for name, group in grouped_data:\n",
        "    fig, ax = plt.subplots(figsize =(10,3))\n",
        "    N, bins, patches = ax.hist(group[\"hours-per-week\"], bins = 15 , edgecolor='black', linewidth=1.3)\n",
        "    # plt.xlabel(\"hours-per-week\", fontdict={'fontsize': 14})\n",
        "    # plt.ylabel(\"Count\", fontdict={'fontsize': 14})\n",
        "    plt.xticks(np.arange(10,100,step=5))\n",
        "    fracs = ((N**(1 /5)) / N.max())\n",
        "    norm = plt.Normalize(fracs.min(), fracs.max())\n",
        "\n",
        "    for thisfrac, thispatch in zip(fracs, patches):\n",
        "      color = plt.cm.viridis(norm(thisfrac))\n",
        "      thispatch.set_facecolor(color)\n",
        "    plt.title('Education Number: {}'.format(name))\n",
        "    plt.show()\n",
        "\n",
        "\n",
        "\n",
        "\n"
      ],
      "metadata": {
        "colab": {
          "base_uri": "https://localhost:8080/",
          "height": 1000
        },
        "id": "bWu5ANlvztS9",
        "outputId": "db433b7b-d143-4d07-a6cf-a920f3a98cf5"
      },
      "execution_count": 10,
      "outputs": [
        {
          "output_type": "display_data",
          "data": {
            "text/plain": [
              "<Figure size 720x216 with 1 Axes>"
            ],
            "image/png": "[encoded data removed]"
          },
          "metadata": {
            "needs_background": "light"
          }
        },
        {
          "output_type": "display_data",
          "data": {
            "text/plain": [
              "<Figure size 720x216 with 1 Axes>"
            ],
            "image/png": "[encoded data removed]"
          },
          "metadata": {
            "needs_background": "light"
          }
        },
        {
          "output_type": "display_data",
          "data": {
            "text/plain": [
              "<Figure size 720x216 with 1 Axes>"
            ],
            "image/png": "[encoded data removed]"
          },
          "metadata": {
            "needs_background": "light"
          }
        },
        {
          "output_type": "display_data",
          "data": {
            "text/plain": [
              "<Figure size 720x216 with 1 Axes>"
            ],
            "image/png": "[encoded data removed]"
          },
          "metadata": {
            "needs_background": "light"
          }
        },
        {
          "output_type": "display_data",
          "data": {
            "text/plain": [
              "<Figure size 720x216 with 1 Axes>"
            ],
            "image/png": "[encoded data removed]"
          },
          "metadata": {
            "needs_background": "light"
          }
        },
        {
          "output_type": "display_data",
          "data": {
            "text/plain": [
              "<Figure size 720x216 with 1 Axes>"
            ],
            "image/png": "[encoded data removed]"
          },
          "metadata": {
            "needs_background": "light"
          }
        },
        {
          "output_type": "display_data",
          "data": {
            "text/plain": [
              "<Figure size 720x216 with 1 Axes>"
            ],
            "image/png": "[encoded data removed]"
          },
          "metadata": {
            "needs_background": "light"
          }
        },
        {
          "output_type": "display_data",
          "data": {
            "text/plain": [
              "<Figure size 720x216 with 1 Axes>"
            ],
            "image/png": "[encoded data removed]"
          },
          "metadata": {
            "needs_background": "light"
          }
        },
        {
          "output_type": "display_data",
          "data": {
            "text/plain": [
              "<Figure size 720x216 with 1 Axes>"
            ],
            "image/png": "[encoded data removed]"
          },
          "metadata": {
            "needs_background": "light"
          }
        },
        {
          "output_type": "display_data",
          "data": {
            "text/plain": [
              "<Figure size 720x216 with 1 Axes>"
            ],
            "image/png": "[encoded data removed]"
          },
          "metadata": {
            "needs_background": "light"
          }
        },
        {
          "output_type": "display_data",
          "data": {
            "text/plain": [
              "<Figure size 720x216 with 1 Axes>"
            ],
            "image/png": "[encoded data removed]"
          },
          "metadata": {
            "needs_background": "light"
          }
        },
        {
          "output_type": "display_data",
          "data": {
            "text/plain": [
              "<Figure size 720x216 with 1 Axes>"
            ],
            "image/png": "[encoded data removed]"
          },
          "metadata": {
            "needs_background": "light"
          }
        },
        {
          "output_type": "display_data",
          "data": {
            "text/plain": [
              "<Figure size 720x216 with 1 Axes>"
            ],
            "image/png": "[encoded data removed]"
          },
          "metadata": {
            "needs_background": "light"
          }
        },
        {
          "output_type": "display_data",
          "data": {
            "text/plain": [
              "<Figure size 720x216 with 1 Axes>"
            ],
            "image/png": "[encoded data removed]"
          },
          "metadata": {
            "needs_background": "light"
          }
        },
        {
          "output_type": "display_data",
          "data": {
            "text/plain": [
              "<Figure size 720x216 with 1 Axes>"
            ],
            "image/png": "[encoded data removed]"
          },
          "metadata": {
            "needs_background": "light"
          }
        }
      ]
    },
    {
      "cell_type": "markdown",
      "source": [
        "<div dir=\"rtl\"> \n",
        "ניתן לשים לב שבמדגם של ה100 אנשים שלקחנו מהדאטא יש גיוון של אנשים מבחינת educational-num ובכך גם מספר שעות העבודה השבועיות שלהם, ניתן לשים לב שהרבה מהאנשים עם educational-num 9, 10 ו13 ולכן בהם קיבלנו היסטוגרמות שנראים עם התפלגות כלשהי.\n",
        "</div>"
      ],
      "metadata": {
        "id": "idNwzIgYBMYf"
      }
    },
    {
      "cell_type": "code",
      "source": [
        "grouped_data = sample.groupby('gender')\n",
        "# grouped_data\n",
        "# # create a histogram for each group\n",
        "\n",
        "for name, group in grouped_data:\n",
        "    fig, ax = plt.subplots(figsize =(10,3))\n",
        "    N, bins, patches = ax.hist(group[\"hours-per-week\"], bins = 15 , edgecolor='black', linewidth=1.3)\n",
        "    # plt.xlabel(\"hours-per-week\", fontdict={'fontsize': 14})\n",
        "    # plt.ylabel(\"Count\", fontdict={'fontsize': 14})\n",
        "    plt.xticks(np.arange(10,100,step=5))\n",
        "    fracs = ((N**(1 /5)) / N.max())\n",
        "    norm = plt.Normalize(fracs.min(), fracs.max())\n",
        "\n",
        "    for thisfrac, thispatch in zip(fracs, patches):\n",
        "      color = plt.cm.viridis(norm(thisfrac))\n",
        "      thispatch.set_facecolor(color)\n",
        "    plt.title('gender: {}'.format(name))\n",
        "    plt.show()\n",
        "\n",
        "\n",
        "\n",
        "\n"
      ],
      "metadata": {
        "colab": {
          "base_uri": "https://localhost:8080/",
          "height": 437
        },
        "id": "4wJwot1NBKnk",
        "outputId": "b2d27a12-a7ac-46f2-ac88-571d572e3ab5"
      },
      "execution_count": 11,
      "outputs": [
        {
          "output_type": "display_data",
          "data": {
            "text/plain": [
              "<Figure size 720x216 with 1 Axes>"
            ],
            "image/png": "[encoded data removed]"
          },
          "metadata": {
            "needs_background": "light"
          }
        },
        {
          "output_type": "display_data",
          "data": {
            "text/plain": [
              "<Figure size 720x216 with 1 Axes>"
            ],
            "image/png": "[encoded data removed]"
          },
          "metadata": {
            "needs_background": "light"
          }
        }
      ]
    },
    {
      "cell_type": "markdown",
      "source": [
        "##4."
      ],
      "metadata": {
        "id": "p-Fs58V4dkxA"
      }
    },
    {
      "cell_type": "code",
      "source": [
        "# 4.\n",
        "sample_test=sample\n",
        "sample_test['x0'] = 1\n",
        "X = sample_test[['x0','age', 'educational-num', 'capital-gain']].to_numpy()\n",
        "y = sample_test['hours-per-week'].to_numpy()\n",
        "\n",
        "beta_cova_1 = np.dot(np.dot(np.linalg.inv(np.dot(X.T, X)), X.T), y) \n",
        "print('beta_cova: ', beta_cova_1)"
      ],
      "metadata": {
        "colab": {
          "base_uri": "https://localhost:8080/"
        },
        "id": "Sz84wGuJrWFY",
        "outputId": "f26f4230-87c6-4fee-cd26-d24ce719bcca"
      },
      "execution_count": 12,
      "outputs": [
        {
          "output_type": "stream",
          "name": "stdout",
          "text": [
            "beta_cova:  [ 3.99570430e+01  7.32683398e-02 -1.66804698e-01  2.31080424e-06]\n"
          ]
        }
      ]
    },
    {
      "cell_type": "code",
      "source": [
        "from sklearn.model_selection import train_test_split\n",
        "from sklearn.linear_model import LinearRegression\n",
        "\n",
        "# ///////////////////////////////////////////////////// change////////////////////////////////////////////////////////////////////////////////////////////\n",
        "# Split the data into training and test sets\n",
        "model = LinearRegression()\n",
        "X_train, X_test, y_train, y_test = train_test_split(sample[['x0','age','educational-num','capital-gain']], \n",
        "                                                    sample['hours-per-week'], test_size=0.2)\n",
        "model.fit(X_train, y_train)\n",
        "coef = model.coef_\n",
        "coef"
      ],
      "metadata": {
        "colab": {
          "base_uri": "https://localhost:8080/"
        },
        "id": "kJ6zrpiG-7Xu",
        "outputId": "3d025e20-b3e5-41f7-d1fb-987b41c2b346"
      },
      "execution_count": 13,
      "outputs": [
        {
          "output_type": "execute_result",
          "data": {
            "text/plain": [
              "array([ 0.00000000e+00,  8.64515348e-02, -1.35968718e-01, -1.40734645e-05])"
            ]
          },
          "metadata": {},
          "execution_count": 13
        }
      ]
    },
    {
      "cell_type": "markdown",
      "source": [
        "<div dir=\"rtl\">\n",
        "מדובר ברגרסיה לינארית ולכן עלייה ביחידה אחת של המשתנה המסביר תגדיל בbeta.i את המשתנה המוסבר\n",
        "</div>"
      ],
      "metadata": {
        "id": "1gWYXTQGqbEN"
      }
    },
    {
      "cell_type": "markdown",
      "source": [
        "##5."
      ],
      "metadata": {
        "id": "U_u54k_fdoDN"
      }
    },
    {
      "cell_type": "code",
      "source": [
        "from scipy.stats import f, norm\n",
        "P = np.dot(np.dot(X, np.linalg.inv(np.dot(X.T, X))), X.T)\n",
        "n = np.shape(X)[0]\n",
        "p = np.shape(beta_cova_1)[0]\n",
        "SS_r = np.dot(np.dot(y.T ,(P - (1/n) * np.ones(np.shape(P)))), y)\n",
        "SS_res = np.dot(np.dot(y.T ,(np.identity(n) - P)), y)\n",
        "SS_t = SS_r + SS_res\n",
        "MSR = SS_r / (p-1)\n",
        "MSE = SS_res / (n-p)\n",
        "MST = SS_t / (n-1)\n",
        "F = (SS_r / (p-1)) / (SS_res / (n-p))\n",
        "p_value = 1 - f.cdf(F, p-1, n-p)\n",
        "R_2 = SS_r / SS_t\n",
        "R_adj = 1 - ((SS_res/(n-p))/ (SS_t/ (n-1)))\n",
        "\n",
        "print('SS_r:', SS_r)\n",
        "print('SS_res:', SS_res)\n",
        "print('SS_t:', SS_t)\n",
        "print('MSR:', MSR)\n",
        "print('MSE:', MSE)\n",
        "print('MST:', MST)\n",
        "print('F:', F)\n",
        "print('p value:', p_value)\n",
        "print('R^2:', R_2)\n",
        "print('R_adj:', R_adj)"
      ],
      "metadata": {
        "id": "qnRfXSwZ-7qA",
        "colab": {
          "base_uri": "https://localhost:8080/"
        },
        "outputId": "82fd385f-548b-4d99-f1b1-24303ebcb99d"
      },
      "execution_count": 14,
      "outputs": [
        {
          "output_type": "stream",
          "name": "stdout",
          "text": [
            "SS_r: 217.46776710431521\n",
            "SS_res: 29230.40723289567\n",
            "SS_t: 29447.874999999985\n",
            "MSR: 72.48925570143841\n",
            "MSE: 149.13473078007996\n",
            "MST: 147.97927135678384\n",
            "F: 0.48606555510087024\n",
            "p value: 0.6923470201060435\n",
            "R^2: 0.007384837347493336\n",
            "R_adj: -0.007808251876779915\n"
          ]
        }
      ]
    },
    {
      "cell_type": "code",
      "source": [
        "import statsmodels.api as sm\n",
        "from statsmodels.formula.api import ols\n",
        "X =sample_test[['age', 'educational-num', 'capital-gain']].to_numpy()\n",
        "\n",
        "# Perform an ANOVA test\n",
        "model = ols('y ~ X', data=sample).fit()\n",
        "\n",
        "# Print the ANOVA table\n",
        "table = sm.stats.anova_lm(model, typ=2)\n",
        "print(table)\n"
      ],
      "metadata": {
        "colab": {
          "base_uri": "https://localhost:8080/"
        },
        "id": "g-EkGHmY0Aus",
        "outputId": "ffc1db05-6abe-4792-f3ec-303dab3a5368"
      },
      "execution_count": 15,
      "outputs": [
        {
          "output_type": "stream",
          "name": "stdout",
          "text": [
            "                sum_sq     df         F    PR(>F)\n",
            "X           217.467767    3.0  0.486066  0.692347\n",
            "Residual  29230.407233  196.0       NaN       NaN\n"
          ]
        }
      ]
    },
    {
      "cell_type": "markdown",
      "source": [
        "##6."
      ],
      "metadata": {
        "id": "waen8QPBduWk"
      }
    },
    {
      "cell_type": "code",
      "source": [
        "conf_int = model.conf_int()\n",
        "print(conf_int)\n"
      ],
      "metadata": {
        "colab": {
          "base_uri": "https://localhost:8080/"
        },
        "id": "nWjZoAO22puC",
        "outputId": "ed3fad53-f46e-4f1a-c398-ce2e4630648f"
      },
      "execution_count": 16,
      "outputs": [
        {
          "output_type": "stream",
          "name": "stdout",
          "text": [
            "                   0          1\n",
            "Intercept  31.712431  48.201655\n",
            "X[0]       -0.059041   0.205578\n",
            "X[1]       -0.807274   0.473665\n",
            "X[2]       -0.000227   0.000232\n"
          ]
        }
      ]
    },
    {
      "cell_type": "code",
      "source": [
        "df_test=df\n",
        "df_test['x0'] = 1\n",
        "X = df_test[['x0','age', 'educational-num', 'capital-gain']].to_numpy()\n",
        "y = df_test['hours-per-week'].to_numpy()\n",
        "\n",
        "beta_cova_2 = np.dot(np.dot(np.linalg.inv(np.dot(X.T, X)), X.T), y) \n",
        "print('beta_cova: ', beta_cova_2)"
      ],
      "metadata": {
        "colab": {
          "base_uri": "https://localhost:8080/"
        },
        "id": "4M1ovLla2tGz",
        "outputId": "e593ebdc-eaaa-470e-a04b-d3e4606c383b"
      },
      "execution_count": 17,
      "outputs": [
        {
          "output_type": "stream",
          "name": "stdout",
          "text": [
            "beta_cova:  [3.16054477e+01 5.66975263e-02 6.46684694e-01 1.00636294e-04]\n"
          ]
        }
      ]
    },
    {
      "cell_type": "markdown",
      "source": [
        "##7."
      ],
      "metadata": {
        "id": "QPGpTZN6qXqn"
      }
    },
    {
      "cell_type": "markdown",
      "source": [
        "<div dir=\"rtl\">\n",
        "נשתמש במבחן F - ככל שהיחס בין השונות שהמודל הצליח להסביר לשונות שהמודל לא הצליח להסביר גדול יותר כך הרגרסיה מובהקת יותר ולכן המודל מתאר יותר טוב את הנתונים.\n",
        "</div>\n",
        "\n",
        "![image.png](data:image/png;base64,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)"
      ],
      "metadata": {
        "id": "9NAyLYFPq4EC"
      }
    },
    {
      "cell_type": "code",
      "source": [
        "print(\"F is \", F)\n",
        "\n",
        "if F <= f.ppf(0.95, p-1, n-p):\n",
        "    print(\"Accept H0\")\n",
        "else:\n",
        "    print(\"Reject H0\")"
      ],
      "metadata": {
        "colab": {
          "base_uri": "https://localhost:8080/"
        },
        "id": "e-Gl3TQHIjVQ",
        "outputId": "ba79175d-d116-45f6-c20d-4c8b1214e646"
      },
      "execution_count": 18,
      "outputs": [
        {
          "output_type": "stream",
          "name": "stdout",
          "text": [
            "F is  0.48606555510087024\n",
            "Accept H0\n"
          ]
        }
      ]
    },
    {
      "cell_type": "markdown",
      "source": [
        "##8.\n"
      ],
      "metadata": {
        "id": "0Kk2d5ns5rqW"
      }
    },
    {
      "cell_type": "code",
      "source": [
        "X = sample[['x0','age', 'educational-num', 'capital-gain']].to_numpy()\n",
        "y=sample[\"hours-per-week\"]\n",
        "y_cova = np.dot(beta_cova_2, X.T)\n",
        "plt.scatter(y_cova, y - y_cova)\n",
        "plt.axhline(y = 0, color = 'r', linestyle = '-')\n",
        "# plt.xlabel('y_cova')\n",
        "# plt.ylabel('y - y_cova')\n",
        "# plt.title('Analysis of residuals')"
      ],
      "metadata": {
        "colab": {
          "base_uri": "https://localhost:8080/",
          "height": 283
        },
        "id": "HNGsD6kv5vFa",
        "outputId": "d008ecf7-4dbe-4362-ea78-df85feb9d8dd"
      },
      "execution_count": 19,
      "outputs": [
        {
          "output_type": "execute_result",
          "data": {
            "text/plain": [
              "<matplotlib.lines.Line2D at 0x7fc2fb10feb0>"
            ]
          },
          "metadata": {},
          "execution_count": 19
        },
        {
          "output_type": "display_data",
          "data": {
            "text/plain": [
              "<Figure size 432x288 with 1 Axes>"
            ],
            "image/png": "[encoded data removed]"
          },
          "metadata": {
            "needs_background": "light"
          }
        }
      ]
    },
    {
      "cell_type": "markdown",
      "source": [
        "<div dir=\"rtl\">\n",
        "מבחינת עובי האלומה שאינו קבוע נסיק כי הנחת השונות קבועה הייתה הנחה  שאינה סבירה.\n",
        "עצם העובדה שהמודל אינו סימטרי סביב ציר X נסיק כי קיימת הטיה של המודל בין אן הפרטמטרים שגויים או בשל מודל לא מתאים. כלומר  הקשר הוא אינו לינארי \n",
        "</div>"
      ],
      "metadata": {
        "id": "U4avK0hG6zn6"
      }
    },
    {
      "cell_type": "markdown",
      "source": [
        "##9.a,b,c"
      ],
      "metadata": {
        "id": "-8WZeTqtG0wL"
      }
    },
    {
      "cell_type": "code",
      "source": [
        "df2 = df.merge(sample, how=\"outer\", indicator=True)\n",
        "df3 = df2[df2['_merge'] == \"left_only\"]\n",
        "df4=df3.sample(n=1000, random_state=42) \n",
        "X=df4[['x0','age', 'educational-num', 'capital-gain']]\n",
        "y=df4[\"hours-per-week\"]\n",
        "n = np.shape(X)[0]\n",
        "p = np.shape(beta_cova_2)[0]\n",
        "var_cova = (1/(n-p)) * sum((y - np.dot(X, beta_cova_2)) ** 2)\n",
        "C = np.linalg.inv(np.dot(X.T, X))\n",
        "counter=0;\n",
        "CI=[]\n",
        "y_predictions=[]\n",
        "for i in range(df4.shape[0]):\n",
        "  x_new =  X.iloc[i]\n",
        "  y_pred= np.dot(beta_cova_2, x_new) \n",
        "  y_predictions.append(y_pred)\n",
        "  b = y_pred + norm.ppf(0.975) * np.sqrt(var_cova * np.dot(np.dot(x_new, C), x_new.T ))\n",
        "  s = y_pred - norm.ppf(0.975) * np.sqrt(var_cova * np.dot(np.dot(x_new, C), x_new.T))\n",
        "  CI.append((s,b))\n",
        "  # print(CI[i][0],y_pred,CI[i][1])\n",
        "  if y_pred>=CI[i][0] and y_pred<=CI[i][1]:\n",
        "      counter+=1\n",
        "print((counter/n)*100,'%')"
      ],
      "metadata": {
        "colab": {
          "base_uri": "https://localhost:8080/"
        },
        "id": "2_hqNkOzG2na",
        "outputId": "7e6d95d3-ca65-401f-b28a-345258ff3c45"
      },
      "execution_count": 20,
      "outputs": [
        {
          "output_type": "stream",
          "name": "stdout",
          "text": [
            "100.0 %\n"
          ]
        }
      ]
    },
    {
      "cell_type": "markdown",
      "source": [
        "##10."
      ],
      "metadata": {
        "id": "sH4eX_kJ0Hzg"
      }
    },
    {
      "cell_type": "code",
      "source": [
        "# X=df4[['x0','age', 'educational-num', 'capital-gain']]\n",
        "X=sample[['x0','age', 'educational-num', 'capital-gain']]\n",
        "\n",
        "newModel=sample\n",
        "newModel['z12']=sample['age'] * sample[\"educational-num\"]\n",
        "newModel['z13']=sample['age'] * sample[\"capital-gain\"]\n",
        "newModel['z23']=sample['educational-num'] * sample[\"capital-gain\"]\n",
        "X_2=newModel[['x0','age', 'educational-num', 'capital-gain','z12','z13','z23']].to_numpy()\n",
        "y=newModel['hours-per-week']\n",
        "beta_cova = np.dot(np.dot(np.linalg.inv(np.dot(X_2.T, X_2)), X_2.T), y) \n",
        "beta_cova"
      ],
      "metadata": {
        "colab": {
          "base_uri": "https://localhost:8080/"
        },
        "id": "ubdh8NZfum6D",
        "outputId": "99b62254-153f-459a-a475-0fbded4e65af"
      },
      "execution_count": 21,
      "outputs": [
        {
          "output_type": "execute_result",
          "data": {
            "text/plain": [
              "array([ 5.55537560e+01, -3.05446017e-01, -1.83074572e+00, -9.67994411e-05,\n",
              "        4.01633552e-02, -5.85830369e-06,  5.16806239e-05])"
            ]
          },
          "metadata": {},
          "execution_count": 21
        }
      ]
    },
    {
      "cell_type": "code",
      "source": [
        "# liklihood ratio test\n",
        "from scipy.stats import t, f, norm, chi2\n",
        "\n",
        "import statsmodels.formula.api as smf\n",
        "model1 = smf.ols('y ~ X', data=sample).fit()\n",
        "model2 = smf.ols('y ~ X_2', data=newModel).fit()\n",
        "likelihood_ratio = model2.llf / model1.llf\n",
        "dof =6 - 3\n",
        "critical_value = chi2.ppf(0.95, dof)\n",
        "\n",
        "if likelihood_ratio > critical_value:\n",
        "    print(\"The difference in fit is statistically significant.\")\n",
        "else:\n",
        "    print(\"The difference in fit is not statistically significant.\")"
      ],
      "metadata": {
        "colab": {
          "base_uri": "https://localhost:8080/"
        },
        "id": "Rc5OW9xd2i13",
        "outputId": "54c9000d-f568-4f97-fd9d-5a30cf96774f"
      },
      "execution_count": 22,
      "outputs": [
        {
          "output_type": "stream",
          "name": "stdout",
          "text": [
            "The difference in fit is not statistically significant.\n"
          ]
        }
      ]
    },
    {
      "cell_type": "code",
      "source": [
        "y_hat = np.dot(X, beta_cova_2.T)\n",
        "y_hat_interactions = np.dot(X_2, beta_cova.T)\n",
        "n = X.shape[0]\n",
        "p = np.shape(beta_cova)[0]\n",
        "p_interactions = beta_cova.shape[0]\n",
        "var_hat_full_model = (1/(n-p_interactions)) * sum((y - y_hat_interactions) ** 2)\n",
        "r_basic = sum((y_hat - y) ** 2) + 2 * (p-1) * var_hat_full_model\n",
        "print(\"Mallow for basic model is \", r_basic)\n",
        "\n",
        "r_interactions = sum((y_hat_interactions - y) ** 2) + 2 * (p_interactions-1) * var_hat_full_model\n",
        "print(\"Mallow for interaction model is \", r_interactions)"
      ],
      "metadata": {
        "colab": {
          "base_uri": "https://localhost:8080/"
        },
        "id": "vKCY-3D1L8Q5",
        "outputId": "48f3935b-fe9c-4a86-b310-48a024f6ba14"
      },
      "execution_count": 23,
      "outputs": [
        {
          "output_type": "stream",
          "name": "stdout",
          "text": [
            "Mallow for basic model is  32185.96904435868\n",
            "Mallow for interaction model is  30483.97809616075\n"
          ]
        }
      ]
    },
    {
      "cell_type": "code",
      "source": [
        "aic_basic = ((-n/2) * np.log(2 * np.pi * var_hat_full_model)) - ((1/(2*var_hat_full_model)) * sum((y-y_hat) ** 2)) - (p-1)\n",
        "print(\"AIC for basic model is \", aic_basic)\n",
        "\n",
        "aic_interactions = ((-n/2) * np.log(2 * np.pi * var_hat_full_model)) - ((1/(2*var_hat_full_model)) * sum((y-y_hat_interactions) ** 2)) - (p_interactions-1)\n",
        "print(\"AIC for interaction model is \", aic_interactions)"
      ],
      "metadata": {
        "colab": {
          "base_uri": "https://localhost:8080/"
        },
        "id": "0FIkxsaqNI-B",
        "outputId": "ed07afec-47f9-4e1a-d365-2a762272fec4"
      },
      "execution_count": 24,
      "outputs": [
        {
          "output_type": "stream",
          "name": "stdout",
          "text": [
            "AIC for basic model is  -792.2051722384044\n",
            "AIC for interaction model is  -786.4823603521087\n"
          ]
        }
      ]
    },
    {
      "cell_type": "markdown",
      "source": [
        "<div dir=\"rtl\">\n",
        "במדד של Mallow נרצה להשתמש במודל עם האיטרציות מכיוון שאנחנו רוצים למזער את הציון והוא קיבל ציון נמוך יותר. במדד AIC נרצה להשתמש במודל עם האיטרציות גם מכייון שאנחנו רוצים למקס את הציון והוא קיבל ציון גבוה יותר.\n",
        "</div>"
      ],
      "metadata": {
        "id": "UM4BSXO3NcSv"
      }
    },
    {
      "cell_type": "markdown",
      "source": [
        "#<h1>Logistic Regression<h1>"
      ],
      "metadata": {
        "id": "6o7fqnvex8cg"
      }
    },
    {
      "cell_type": "markdown",
      "source": [
        "<div dir=\"rtl\">\n",
        " בחרנו בשלושת המשתנים המסבירים הבאים: גיל (age), מספר השכלה  (educational-num) מתאר את רמת ההשכלה של אדם בסט הנתונים בין 1-16 ומספר שעות העבודה בשבוע (hours-per-week).\n",
        "עבור המשתנה המוסבר בחרנו בהכנסה (income).\n",
        "עשינו טרנספורמציה לנתונים , כעת בעמודת הincome  יהיה 1 : אם אדם מרוויח יותר מ 50k  ו -0 אחרת.\n",
        "\n",
        "</div>"
      ],
      "metadata": {
        "id": "Fjypv0x-EPNH"
      }
    },
    {
      "cell_type": "markdown",
      "source": [
        "##1."
      ],
      "metadata": {
        "id": "zqzfFOQ0ur-h"
      }
    },
    {
      "cell_type": "markdown",
      "source": [
        "<div dir=\"rtl\">\n",
        "שאלת המחקר היא הים יש קשר בין גיל האדם, רמת השכלתו ומספר שעות עבודה שבועיות להאם הוא ירוויח מעל 50 K  בחודש \n",
        "</div>"
      ],
      "metadata": {
        "id": "V5CHVzCSu00S"
      }
    },
    {
      "cell_type": "markdown",
      "source": [
        "##2."
      ],
      "metadata": {
        "id": "9-KjliFbcwrp"
      }
    },
    {
      "cell_type": "code",
      "source": [
        "# 2.\n",
        "sample2 = df.sample(n=200, random_state=0)\n",
        "\n",
        "\n",
        "# sample_transform[\"income\"] = np.where(sample_transform[\"gender\"]==\">50K\", 1, 0)\n"
      ],
      "metadata": {
        "id": "iF5Z2FJLyDHt"
      },
      "execution_count": 25,
      "outputs": []
    },
    {
      "cell_type": "markdown",
      "source": [
        "##3."
      ],
      "metadata": {
        "id": "aToQPJ1zc3bC"
      }
    },
    {
      "cell_type": "code",
      "source": [
        "# 0 is for  aperson whoe eran under 50K\n",
        "# 1 ids for over 50K\n",
        "over50k, counts = np.unique(sample2['income'], return_counts=True)\n",
        "incomes=[]\n",
        "amount=[]\n",
        "for income, count in zip(over50k, counts):\n",
        "    incomes.append(income)\n",
        "    amount.append(count)\n",
        "\n",
        "table = pd.DataFrame({'income over 50k?': incomes, 'Count': amount}).style.format(precision= 2).set_table_attributes(\"style='display:inline'\").\\\n",
        "set_caption('Table for income').set_table_styles(style)\n",
        "display_html(table._repr_html_(), raw=True)\n"
      ],
      "metadata": {
        "colab": {
          "base_uri": "https://localhost:8080/",
          "height": 121
        },
        "id": "5Yj1o3UrEW00",
        "outputId": "a6614ac8-1f94-46a4-ef98-8d053445f92f"
      },
      "execution_count": 26,
      "outputs": [
        {
          "output_type": "display_data",
          "data": {
            "text/html": [
              "<style type=\"text/css\">\n",
              "#T_3052d_ caption {\n",
              "  background: #ffdf80;\n",
              "  color: Black;\n",
              "  font-family: verdana;\n",
              "  font-size: 150%;\n",
              "}\n",
              "#T_3052d_ th {\n",
              "  background: #3399ff;\n",
              "  color: Black;\n",
              "  font-family: verdana;\n",
              "  font-size: 130%;\n",
              "}\n",
              "#T_3052d_ td {\n",
              "  color: BLACK;\n",
              "  font-family: verdana;\n",
              "  font-size: 130%;\n",
              "}\n",
              "#T_3052d_ tr:nth-of-type(odd) {\n",
              "  background: WHITE;\n",
              "}\n",
              "#T_3052d_ tr:nth-of-type(even) {\n",
              "  background: WHITE;\n",
              "}\n",
              "#T_3052d_ tr:hover {\n",
              "  background-color: #80bfff;\n",
              "}\n",
              "</style>\n",
              "<table id=\"T_3052d_\" style='display:inline'>\n",
              "  <caption>Table for income</caption>\n",
              "  <thead>\n",
              "    <tr>\n",
              "      <th class=\"blank level0\" >&nbsp;</th>\n",
              "      <th class=\"col_heading level0 col0\" >income over 50k?</th>\n",
              "      <th class=\"col_heading level0 col1\" >Count</th>\n",
              "    </tr>\n",
              "  </thead>\n",
              "  <tbody>\n",
              "    <tr>\n",
              "      <th id=\"T_3052d_level0_row0\" class=\"row_heading level0 row0\" >0</th>\n",
              "      <td id=\"T_3052d_row0_col0\" class=\"data row0 col0\" ><=50K</td>\n",
              "      <td id=\"T_3052d_row0_col1\" class=\"data row0 col1\" >138</td>\n",
              "    </tr>\n",
              "    <tr>\n",
              "      <th id=\"T_3052d_level0_row1\" class=\"row_heading level0 row1\" >1</th>\n",
              "      <td id=\"T_3052d_row1_col0\" class=\"data row1 col0\" >>50K</td>\n",
              "      <td id=\"T_3052d_row1_col1\" class=\"data row1 col1\" >62</td>\n",
              "    </tr>\n",
              "  </tbody>\n",
              "</table>\n"
            ]
          },
          "metadata": {}
        }
      ]
    },
    {
      "cell_type": "markdown",
      "source": [
        "<div dir=\"rtl\"> \n",
        "הגרפים הוצגו בחלק 1 ובסעיף הזה הוצג הגרף של המשתנה שלא הופיע בחלק הראשון.\n",
        "בנוסף אין צורך להציג את ההתפלגויות שוב.\n",
        "</div>"
      ],
      "metadata": {
        "id": "P6tc_7nfI510"
      }
    },
    {
      "cell_type": "code",
      "source": [
        "grouped_data = sample2.groupby('income')\n",
        "# grouped_data\n",
        "# # create a histogram for each group\n",
        "\n",
        "for name, group in grouped_data:\n",
        "    fig, ax = plt.subplots(figsize =(10,3))\n",
        "    N, bins, patches = ax.hist(group[\"age\"], bins = 15 , edgecolor='black', linewidth=1.3)\n",
        "    # plt.xlabel(\"hours-per-week\", fontdict={'fontsize': 14})\n",
        "    # plt.ylabel(\"Count\", fontdict={'fontsize': 14})\n",
        "    plt.xticks(np.arange(10,100,step=5))\n",
        "    fracs = ((N**(1 /5)) / N.max())\n",
        "    norm = plt.Normalize(fracs.min(), fracs.max())\n",
        "\n",
        "    for thisfrac, thispatch in zip(fracs, patches):\n",
        "      color = plt.cm.viridis(norm(thisfrac))\n",
        "      thispatch.set_facecolor(color)\n",
        "    plt.title('income : {}'.format(name))\n",
        "    plt.show()"
      ],
      "metadata": {
        "colab": {
          "base_uri": "https://localhost:8080/",
          "height": 437
        },
        "id": "ur4yRWhxJBSU",
        "outputId": "3e8bf646-2cc9-4fd7-ead0-4ccff64899d6"
      },
      "execution_count": 27,
      "outputs": [
        {
          "output_type": "display_data",
          "data": {
            "text/plain": [
              "<Figure size 720x216 with 1 Axes>"
            ],
            "image/png": "[encoded data removed]"
          },
          "metadata": {
            "needs_background": "light"
          }
        },
        {
          "output_type": "display_data",
          "data": {
            "text/plain": [
              "<Figure size 720x216 with 1 Axes>"
            ],
            "image/png": "[encoded data removed]"
          },
          "metadata": {
            "needs_background": "light"
          }
        }
      ]
    },
    {
      "cell_type": "code",
      "source": [
        "grouped_data = sample2.groupby('income')\n",
        "# grouped_data\n",
        "# # create a histogram for each group\n",
        "\n",
        "for name, group in grouped_data:\n",
        "    fig, ax = plt.subplots(figsize =(10,3))\n",
        "    N, bins, patches = ax.hist(group[\"hours-per-week\"], bins = 15 , edgecolor='black', linewidth=1.3)\n",
        "    # plt.xlabel(\"hours-per-week\", fontdict={'fontsize': 14})\n",
        "    # plt.ylabel(\"Count\", fontdict={'fontsize': 14})\n",
        "    plt.xticks(np.arange(10,100,step=5))\n",
        "    fracs = ((N**(1 /5)) / N.max())\n",
        "    norm = plt.Normalize(fracs.min(), fracs.max())\n",
        "\n",
        "    for thisfrac, thispatch in zip(fracs, patches):\n",
        "      color = plt.cm.viridis(norm(thisfrac))\n",
        "      thispatch.set_facecolor(color)\n",
        "    plt.title('hours per week : {}'.format(name))\n",
        "    plt.show()"
      ],
      "metadata": {
        "colab": {
          "base_uri": "https://localhost:8080/",
          "height": 437
        },
        "id": "1q9MAp4mLc4Z",
        "outputId": "8e9348c5-66bb-4371-e915-f3e306bd255e"
      },
      "execution_count": 28,
      "outputs": [
        {
          "output_type": "display_data",
          "data": {
            "text/plain": [
              "<Figure size 720x216 with 1 Axes>"
            ],
            "image/png": "[encoded data removed]"
          },
          "metadata": {
            "needs_background": "light"
          }
        },
        {
          "output_type": "display_data",
          "data": {
            "text/plain": [
              "<Figure size 720x216 with 1 Axes>"
            ],
            "image/png": "[encoded data removed]"
          },
          "metadata": {
            "needs_background": "light"
          }
        }
      ]
    },
    {
      "cell_type": "code",
      "source": [
        "grouped_data = sample2.groupby('income')\n",
        "# grouped_data\n",
        "# # create a histogram for each group\n",
        "\n",
        "for name, group in grouped_data:\n",
        "    fig, ax = plt.subplots(figsize =(10,3))\n",
        "    N, bins, patches = ax.hist(group[\"educational-num\"], bins = 15 , edgecolor='black', linewidth=1.3)\n",
        "    # plt.xlabel(\"hours-per-week\", fontdict={'fontsize': 14})\n",
        "    # plt.ylabel(\"Count\", fontdict={'fontsize': 14})\n",
        "    plt.xticks(np.arange(1,17,step=1))\n",
        "    fracs = ((N**(1 /5)) / N.max())\n",
        "    norm = plt.Normalize(fracs.min(), fracs.max())\n",
        "\n",
        "    for thisfrac, thispatch in zip(fracs, patches):\n",
        "      color = plt.cm.viridis(norm(thisfrac))\n",
        "      thispatch.set_facecolor(color)\n",
        "    plt.title('income : {}'.format(name))\n",
        "    plt.show()"
      ],
      "metadata": {
        "colab": {
          "base_uri": "https://localhost:8080/",
          "height": 437
        },
        "id": "HTCVkkV5L5DP",
        "outputId": "6d1b6db0-4f4a-4229-fd43-5df82c65b9ee"
      },
      "execution_count": 29,
      "outputs": [
        {
          "output_type": "display_data",
          "data": {
            "text/plain": [
              "<Figure size 720x216 with 1 Axes>"
            ],
            "image/png": "[encoded data removed]"
          },
          "metadata": {
            "needs_background": "light"
          }
        },
        {
          "output_type": "display_data",
          "data": {
            "text/plain": [
              "<Figure size 720x216 with 1 Axes>"
            ],
            "image/png": "[encoded data removed]"
          },
          "metadata": {
            "needs_background": "light"
          }
        }
      ]
    },
    {
      "cell_type": "markdown",
      "source": [
        "<div dir=\"rtl\">\n",
        "ניתן לשים לב לפי הגרפים כי המשתנה שמושפע הכי הרבה מהאם מרוויח יותר מ50 אלף הינו educational-num כלומר אנשים עם educational-num  גדול ככל הנראה מרוויחים יותר מ50 אלף.\n",
        "</div>"
      ],
      "metadata": {
        "id": "685NNCiLXdM7"
      }
    },
    {
      "cell_type": "markdown",
      "source": [
        "##4."
      ],
      "metadata": {
        "id": "svLlAbtzdCVq"
      }
    },
    {
      "cell_type": "code",
      "source": [
        "# transforming the data so it will be suitable for logistig regression\n",
        "# 0 is for  aperson whoe eran under 50K\n",
        "# 1 ids for over 50K\n",
        "\n",
        "sample_transform =sample2\n",
        "sample_transform[\"income\"] = sample_transform[\"income\"].replace({\"<=50K\": 0, \">50K\": 1})\n"
      ],
      "metadata": {
        "id": "MT9HJ4xlINdM"
      },
      "execution_count": 30,
      "outputs": []
    },
    {
      "cell_type": "code",
      "source": [
        "# 4.\n",
        "from sklearn.linear_model import LogisticRegression\n",
        "\n",
        "X=sample_transform[['x0','age',\"hours-per-week\",'educational-num']].to_numpy()\n",
        "y=sample_transform[['income']].to_numpy()\n",
        "reg=LogisticRegression(penalty='none',fit_intercept=False).fit(X,y)\n",
        "beta=reg.coef_\n",
        "beta\n"
      ],
      "metadata": {
        "colab": {
          "base_uri": "https://localhost:8080/"
        },
        "id": "OS0imtLLM7uZ",
        "outputId": "1d8da7ad-c810-40d2-998e-11f005d46d80"
      },
      "execution_count": 31,
      "outputs": [
        {
          "output_type": "stream",
          "name": "stderr",
          "text": [
            "/usr/local/lib/python3.8/dist-packages/sklearn/utils/validation.py:993: DataConversionWarning: A column-vector y was passed when a 1d array was expected. Please change the shape of y to (n_samples, ), for example using ravel().\n",
            "  y = column_or_1d(y, warn=True)\n"
          ]
        },
        {
          "output_type": "execute_result",
          "data": {
            "text/plain": [
              "array([[-10.74016666,   0.06795667,   0.07626338,   0.39077232]])"
            ]
          },
          "metadata": {},
          "execution_count": 31
        }
      ]
    },
    {
      "cell_type": "markdown",
      "source": [
        "<div dir=\"rtl\">\n",
        "מדובר ברגרסיה לוגיסטית ולכן עלייה ביחידה אחת של המשתנה המסביר תגדיל את היחס של הסיכויים פי exp(beta.i)\n",
        "</div>"
      ],
      "metadata": {
        "id": "9hqPGtNTNngG"
      }
    },
    {
      "cell_type": "markdown",
      "source": [
        "##5."
      ],
      "metadata": {
        "id": "EvAbYbn1dFlI"
      }
    },
    {
      "cell_type": "code",
      "source": [
        "import statsmodels.api as sm\n",
        "model = sm.Logit(y, X)\n",
        "result = model.fit()\n",
        "# Get the confidence  intervals for the beta values\n",
        "conf_ints = result.conf_int()\n",
        "conf_ints\n"
      ],
      "metadata": {
        "colab": {
          "base_uri": "https://localhost:8080/"
        },
        "id": "wQl2dpz6NtGZ",
        "outputId": "21e4d11b-c56a-4775-8ba9-29b85e718520"
      },
      "execution_count": 32,
      "outputs": [
        {
          "output_type": "stream",
          "name": "stdout",
          "text": [
            "Optimization terminated successfully.\n",
            "         Current function value: 0.443596\n",
            "         Iterations 7\n"
          ]
        },
        {
          "output_type": "execute_result",
          "data": {
            "text/plain": [
              "array([[-13.86576406,  -7.6144452 ],\n",
              "       [  0.0367344 ,   0.09917839],\n",
              "       [  0.03405386,   0.11847128],\n",
              "       [  0.23903795,   0.54250379]])"
            ]
          },
          "metadata": {},
          "execution_count": 32
        }
      ]
    },
    {
      "cell_type": "code",
      "source": [
        "full_model=df\n",
        "full_model[\"income\"] = full_model[\"income\"].replace({\"<=50K\": 0, \">50K\": 1})\n",
        "X=full_model[['x0','age',\"hours-per-week\",'educational-num']].to_numpy()\n",
        "y=full_model['income']\n",
        "reg=LogisticRegression(penalty='none',fit_intercept=False).fit(X,y)\n",
        "beta=reg.coef_\n",
        "beta"
      ],
      "metadata": {
        "colab": {
          "base_uri": "https://localhost:8080/"
        },
        "id": "UYe7Y-Stf96g",
        "outputId": "3c792a10-c98f-4ae8-9f0f-685dd54d1ca2"
      },
      "execution_count": 33,
      "outputs": [
        {
          "output_type": "execute_result",
          "data": {
            "text/plain": [
              "array([[-8.47907654,  0.04610353,  0.04235785,  0.34515756]])"
            ]
          },
          "metadata": {},
          "execution_count": 33
        }
      ]
    },
    {
      "cell_type": "markdown",
      "source": [
        "<div dir=\"rtl\">\n",
        "קיבלנו כי רווחי הסמך מכילים את הערכים של בטא לפי כל הדאטא\n",
        "</div>"
      ],
      "metadata": {
        "id": "-_bmWtDChDak"
      }
    },
    {
      "cell_type": "markdown",
      "source": [
        "##6."
      ],
      "metadata": {
        "id": "MIfGtq7D0lfP"
      }
    },
    {
      "cell_type": "code",
      "source": [
        "newModel=sample2\n",
        "newModel['z12']=sample2['age'] * sample2[\"hours-per-week\"]\n",
        "newModel['z13']=sample2['age'] * sample2[\"educational-num\"]\n",
        "newModel['z23']=sample2['hours-per-week'] * sample2[\"educational-num\"]\n",
        "X_2=newModel[['x0','age',\"hours-per-week\",'educational-num','z12','z13','z23']].to_numpy()\n",
        "y_2=newModel['income']\n",
        "\n",
        "reg=LogisticRegression(penalty='none',fit_intercept=False).fit(X_2,y_2)\n",
        "beta=reg.coef_\n",
        "beta\n"
      ],
      "metadata": {
        "colab": {
          "base_uri": "https://localhost:8080/"
        },
        "id": "YC5c4s_dhT1N",
        "outputId": "922b74b2-55a0-49a7-939e-ed6c8954c715"
      },
      "execution_count": 34,
      "outputs": [
        {
          "output_type": "execute_result",
          "data": {
            "text/plain": [
              "array([[ 0.00466853, -0.1496259 , -0.22864651,  0.21222798,  0.00591764,\n",
              "         0.00024104,  0.00589681]])"
            ]
          },
          "metadata": {},
          "execution_count": 34
        }
      ]
    },
    {
      "cell_type": "code",
      "source": [
        "# liklihood ratio test\n",
        "from scipy.stats import t, f, norm, chi2\n",
        "X=sample2[['x0','age',\"hours-per-week\",'educational-num']].to_numpy()\n",
        "y=sample2[\"income\"]\n",
        "import statsmodels.formula.api as smf\n",
        "model1 = smf.ols('y ~ X', data=sample2).fit()\n",
        "model2 = smf.ols('y_2 ~ X_2', data=newModel).fit()\n",
        "likelihood_ratio = model2.llf / model1.llf\n",
        "dof = model2.df_model - model.df_model\n",
        "critical_value = chi2.ppf(0.95, dof)\n",
        "\n",
        "if likelihood_ratio > critical_value:\n",
        "    print(\"The difference in fit is statistically significant.\")\n",
        "else:\n",
        "    print(\"The difference in fit is not statistically significant.\")"
      ],
      "metadata": {
        "colab": {
          "base_uri": "https://localhost:8080/"
        },
        "id": "dyF3TjeYhT6E",
        "outputId": "226d8c9b-3404-4418-f1ac-f6f06fd7beda"
      },
      "execution_count": 35,
      "outputs": [
        {
          "output_type": "stream",
          "name": "stdout",
          "text": [
            "The difference in fit is not statistically significant.\n"
          ]
        }
      ]
    },
    {
      "cell_type": "markdown",
      "source": [
        "<div dir=\"rtl\">\n",
        "קיבלנו שהמודל המכיל יותר משתנים אינו מספיק כדי לעבור את מבחן יחס הנראות לכן המודל המופחת בעל 3 המשתנים עדיף\n",
        "</div>"
      ],
      "metadata": {
        "id": "xqZ57it0tVdn"
      }
    },
    {
      "cell_type": "code",
      "source": [
        "n = X.shape[0]\n",
        "p = beta.shape[0]\n",
        "var_hat_full_model = (1/(n-p)) * sum((y - y_hat_interactions) ** 2)\n",
        "r_basic = sum((y_hat - y) ** 2) + 2 * 3 * var_hat_full_model\n",
        "print(\"Mallow for basic model is \", r_basic)\n",
        "r_interactions = sum((y_hat_interactions - y) ** 2) + 2 * 6 * var_hat_full_model\n",
        "print(\"Mallow for interaction model is \", r_interactions)"
      ],
      "metadata": {
        "colab": {
          "base_uri": "https://localhost:8080/"
        },
        "id": "zmHuNDV1LJ3N",
        "outputId": "f92f3aa2-bb4c-4b96-8b37-4342913b7142"
      },
      "execution_count": 36,
      "outputs": [
        {
          "output_type": "stream",
          "name": "stdout",
          "text": [
            "Mallow for basic model is  329979.8251289986\n",
            "Mallow for interaction model is  354100.5958777312\n"
          ]
        }
      ]
    },
    {
      "cell_type": "markdown",
      "source": [
        "<div dir=\"rtl\"> \n",
        "קיבלנו כי על פי הסטטיסטי של מאלו עדיף להשתמש במודל הפשוט כי הוא קיבל ציון נמוך יותר.\n",
        "</div>"
      ],
      "metadata": {
        "id": "d3EmIQhuPVB3"
      }
    },
    {
      "cell_type": "markdown",
      "source": [
        "##7."
      ],
      "metadata": {
        "id": "C9wAT8uZz1q9"
      }
    },
    {
      "cell_type": "code",
      "source": [
        "def mallow(X, y, var_hat):\n",
        "  s = X.shape[1]-1\n",
        "  reg = LogisticRegression(penalty=\"none\", fit_intercept=False).fit(X, y)\n",
        "  beta_hat = reg.coef_[0]\n",
        "  y_hat = np.dot(X, beta_hat.T)\n",
        "  return sum((y_hat - y) ** 2) + 2 * s * var_hat\n",
        "\n",
        "def forward():\n",
        "  explanatory_variables = ['x0']\n",
        "  columns = ['age',\"hours-per-week\",'educational-num','z12','z13','z23']\n",
        "  R = np.inf\n",
        "  while True:\n",
        "    find_min = []\n",
        "    for col in columns:\n",
        "      temp = explanatory_variables.copy()\n",
        "      temp.append(col)\n",
        "      find_min.append([col, mallow(sample[temp].to_numpy(), y, var_hat_full_model)])\n",
        "    find_min = min(find_min, key= lambda x: x[1])\n",
        "    if R > find_min[1]:\n",
        "      R = find_min[1]\n",
        "      explanatory_variables.append(find_min[0])\n",
        "      columns.remove(find_min[0])\n",
        "    else:\n",
        "      break\n",
        "    if len(columns) == 0:\n",
        "      break\n",
        "  return explanatory_variables\n",
        "\n",
        "print('Forward Stepwise Regression model is using', forward())\n",
        "print()\n",
        "\n",
        "def backward():\n",
        "  explanatory_variables = ['x0','age',\"hours-per-week\",'educational-num','z12','z13','z23']\n",
        "  columns = ['age',\"hours-per-week\",'educational-num','z12','z13','z23']\n",
        "  R = np.inf\n",
        "  while True:\n",
        "    find_min = []\n",
        "    for col in columns:\n",
        "      temp = explanatory_variables.copy()\n",
        "      temp.remove(col)\n",
        "      find_min.append([col, mallow(sample[temp].to_numpy(), y, var_hat_full_model)])\n",
        "    find_min = min(find_min, key= lambda x: x[1])\n",
        "    if R > find_min[1]:\n",
        "      R = find_min[1]\n",
        "      explanatory_variables.remove(find_min[0])\n",
        "      columns.remove(find_min[0])\n",
        "    else:\n",
        "      break\n",
        "    if len(columns) == 0:\n",
        "      break\n",
        "  return explanatory_variables\n",
        "\n",
        "print('Backward Stepwise Regression model is using', backward())"
      ],
      "metadata": {
        "colab": {
          "base_uri": "https://localhost:8080/"
        },
        "id": "31xiLaLzKol6",
        "outputId": "5bb1babd-29a8-4b8f-df08-a8341838949c"
      },
      "execution_count": 37,
      "outputs": [
        {
          "output_type": "stream",
          "name": "stdout",
          "text": [
            "Forward Stepwise Regression model is using ['x0', 'z13']\n",
            "\n",
            "Backward Stepwise Regression model is using ['x0']\n"
          ]
        }
      ]
    },
    {
      "cell_type": "markdown",
      "source": [
        "<div dir=\"rtl\">\n",
        "קיבלנו מודלים שונים, וזה מכיוון שהאלגוריתמים הנ\"ל הם גרידיים.\n",
        "</div>"
      ],
      "metadata": {
        "id": "vWw_9Q9sRwre"
      }
    },
    {
      "cell_type": "markdown",
      "source": [
        "##8."
      ],
      "metadata": {
        "id": "pYjX9H-X4BWj"
      }
    },
    {
      "cell_type": "code",
      "source": [
        "def aic(X, y, var_hat):\n",
        "  s = X.shape[1]-1\n",
        "  n = X.shape[0]\n",
        "  reg = LogisticRegression(penalty=\"none\", fit_intercept=False).fit(X, y)\n",
        "  beta_hat = reg.coef_[0]\n",
        "  y_hat = np.dot(X, beta_hat.T)\n",
        "  return ((-n/2) * np.log(2 * np.pi * var_hat)) - ((1/(2*var_hat)) * sum((y-y_hat) ** 2)) - s\n",
        "\n",
        "def forward():\n",
        "  explanatory_variables = ['x0']\n",
        "  columns = ['age',\"hours-per-week\",'educational-num','z12','z13','z23']\n",
        "  R = -np.inf\n",
        "  while True:\n",
        "    find_max = []\n",
        "    for col in columns:\n",
        "      temp = explanatory_variables.copy()\n",
        "      temp.append(col)\n",
        "      find_max.append([col, aic(sample[temp].to_numpy(), y, var_hat_full_model)])\n",
        "    find_max = max(find_max, key= lambda x: x[1])\n",
        "    if R < find_max[1]:\n",
        "      R = find_max[1]\n",
        "      explanatory_variables.append(find_max[0])\n",
        "      columns.remove(find_max[0])\n",
        "    else:\n",
        "      break\n",
        "    if len(columns) == 0:\n",
        "      break\n",
        "  return explanatory_variables\n",
        "\n",
        "print('Forward Stepwise Regression model is using', forward())\n",
        "print()\n",
        "\n",
        "def backward():\n",
        "  explanatory_variables = ['x0','age',\"hours-per-week\",'educational-num','z12','z13','z23']\n",
        "  columns = ['age',\"hours-per-week\",'educational-num','z12','z13','z23']\n",
        "  R =  - np.inf\n",
        "  while True:\n",
        "    find_max = []\n",
        "    for col in columns:\n",
        "      temp = explanatory_variables.copy()\n",
        "      temp.remove(col)\n",
        "      find_max.append([col, aic(sample[temp].to_numpy(), y, var_hat_full_model)])\n",
        "    find_max = max(find_max, key= lambda x: x[1])\n",
        "    if R < find_max[1]:\n",
        "      R = find_max[1]\n",
        "      explanatory_variables.remove(find_max[0])\n",
        "      columns.remove(find_max[0])\n",
        "    else:\n",
        "      break\n",
        "    if len(columns) == 0:\n",
        "      break\n",
        "  return explanatory_variables\n",
        "\n",
        "print('Backward Stepwise Regression model is using', backward())"
      ],
      "metadata": {
        "colab": {
          "base_uri": "https://localhost:8080/"
        },
        "id": "Gohdh4V3RoWt",
        "outputId": "f7705d3c-c07e-4522-c0b7-97b8329037b6"
      },
      "execution_count": 38,
      "outputs": [
        {
          "output_type": "stream",
          "name": "stdout",
          "text": [
            "Forward Stepwise Regression model is using ['x0', 'z13']\n",
            "\n",
            "Backward Stepwise Regression model is using ['x0']\n"
          ]
        }
      ]
    },
    {
      "cell_type": "markdown",
      "source": [
        "<div dir=\"rtl\"> \n",
        "קיבלנו תוצאות זהות גם בסעיף 7 וגם בסעיף 8 מכיוון שלמדנו כי מזעור מאלו שקול למקסום aic.\n",
        "</div>"
      ],
      "metadata": {
        "id": "2uK-p98iS-TV"
      }
    }
  ]
}