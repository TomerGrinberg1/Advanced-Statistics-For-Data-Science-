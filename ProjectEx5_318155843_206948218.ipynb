{
  "nbformat": 4,
  "nbformat_minor": 0,
  "metadata": {
    "colab": {
      "provenance": [],
      "collapsed_sections": [
        "uEtGwrLY28cB"
      ]
    },
    "kernelspec": {
      "name": "python3",
      "display_name": "Python 3"
    },
    "language_info": {
      "name": "python"
    }
  },
  "cells": [
    {
      "cell_type": "code",
      "execution_count": 31,
      "metadata": {
        "id": "pY6fOG9O2ljH"
      },
      "outputs": [],
      "source": [
        "import pandas as pd\n",
        "import numpy as np\n",
        "from random import sample\n",
        "import random\n",
        "import scipy.stats as stats"
      ]
    },
    {
      "cell_type": "code",
      "source": [
        "df= pd.read_csv(\"adult.csv\")\n"
      ],
      "metadata": {
        "id": "5swxJZrW23mj"
      },
      "execution_count": 32,
      "outputs": []
    },
    {
      "cell_type": "markdown",
      "source": [
        "#Part 1 - Baysian Aprroach"
      ],
      "metadata": {
        "id": "uEtGwrLY28cB"
      }
    },
    {
      "cell_type": "markdown",
      "source": [
        "<div dir=\"rtl\"></br>\n",
        "קובץ הנתונים שבחרנו הוא:  <b>Adult income dataset</b></br>\n",
        "\n",
        "שאלת המחקר: </br>\n",
        " האם מספר שעות העבודה של אדם בשבוע משתנות בין אם האדם מרוויח פחות מ50k דולרים בשנה או 50k  דולרים ויותר?\n",
        "</br>\n",
        "\n",
        "המשתנה הרציף הינו X = hours-per-week\n",
        "</br>\n",
        "המשתנה הבינארי הינו Y = income\n",
        "</div>"
      ],
      "metadata": {
        "id": "46F_3VR7STRC"
      }
    },
    {
      "cell_type": "code",
      "source": [
        "#importing\n",
        "import pandas as pd\n",
        "import numpy as np\n",
        "from matplotlib import pyplot as plt\n",
        "import seaborn as sns\n",
        "from scipy.stats import t, f, norm, chi2\n",
        "from matplotlib import colors\n",
        "from IPython.display import display_html "
      ],
      "metadata": {
        "id": "BlRpqz-4SWOp"
      },
      "execution_count": 33,
      "outputs": []
    },
    {
      "cell_type": "code",
      "source": [
        "#import the data\n",
        "df=pd.read_csv(\"adult.csv\")"
      ],
      "metadata": {
        "id": "-Q-K-HT4SW0I"
      },
      "execution_count": 34,
      "outputs": []
    },
    {
      "cell_type": "markdown",
      "source": [
        "##1"
      ],
      "metadata": {
        "id": "Ph00SwYa3Oq2"
      }
    },
    {
      "cell_type": "code",
      "source": [
        "sample = df.sample(n=200, random_state=42)\n",
        "copy = df.copy()\n",
        "merge = sample.merge(copy, indicator=True, how='outer')\n",
        "merge[merge['_merge'] == 'right_only']\n",
        "df_for_past = merge.drop(columns=[\"_merge\"])\n",
        "past = df_for_past.sample(n=1000, random_state=27)"
      ],
      "metadata": {
        "id": "xJto_LdNXFU6"
      },
      "execution_count": 35,
      "outputs": []
    },
    {
      "cell_type": "markdown",
      "source": [
        "##2"
      ],
      "metadata": {
        "id": "wwjaN7cFShXI"
      }
    },
    {
      "cell_type": "code",
      "source": [
        "𝜏 = np.median(copy[\"hours-per-week\"])\n",
        "z = lambda hours_per_week: int(hours_per_week > 𝜏)\n",
        "sample[\"Z\"] = sample[\"hours-per-week\"].apply(z)\n"
      ],
      "metadata": {
        "id": "YqKO5cUeS-Op"
      },
      "execution_count": 36,
      "outputs": []
    },
    {
      "cell_type": "markdown",
      "source": [
        "###a"
      ],
      "metadata": {
        "id": "81PY9JZiSjMj"
      }
    },
    {
      "cell_type": "code",
      "source": [
        "def odd_ratio(p):\n",
        "  return np.log(p/(1-p))\n",
        "\n",
        "big_income_sample = sample[sample[\"income\"] == \">50K\"]\n",
        "small_income_sample = sample[sample[\"income\"] == \"<=50K\"]\n",
        "big_size = big_income_sample.shape[0]\n",
        "small_size = small_income_sample.shape[0]\n",
        "p1 = sum(big_income_sample[\"Z\"]) / big_size\n",
        "p2 = sum(small_income_sample[\"Z\"]) / small_size\n",
        "Ψ1 = odd_ratio(p1) - odd_ratio(p2)\n",
        "print(f\"Ψ is {Ψ1}\")"
      ],
      "metadata": {
        "colab": {
          "base_uri": "https://localhost:8080/"
        },
        "id": "qvOJoLH_TBS2",
        "outputId": "00855535-836d-4de9-c4ae-079b90a7b4d0"
      },
      "execution_count": 37,
      "outputs": [
        {
          "output_type": "stream",
          "name": "stdout",
          "text": [
            "Ψ is 0.5461862123969734\n"
          ]
        }
      ]
    },
    {
      "cell_type": "code",
      "source": [
        "def quantaile(array, alpha):\n",
        "    array = sorted(array)\n",
        "    n = len(array)\n",
        "    for i, number in enumerate(array):\n",
        "      if (i + 1) / n >= alpha :\n",
        "        return number\n",
        "    return number\n",
        "\n",
        "n_bootstraps = 1000\n",
        "values = []\n",
        "for i in range(n_bootstraps):\n",
        "    bs_big = big_income_sample.sample(big_size, replace=True, random_state=i)\n",
        "    bs_small = small_income_sample.sample(small_size, replace=True, random_state=i)\n",
        "    bs_p1 = sum(bs_big[\"Z\"]) / bs_big.shape[0]\n",
        "    bs_p2 = sum(bs_small[\"Z\"]) / bs_small.shape[0]\n",
        "    Ψ2 = odd_ratio(bs_p1) - odd_ratio(bs_p2)\n",
        "    values.append(Ψ2)\n",
        "l1 = quantaile(values, 0.025)\n",
        "h1 = quantaile(values, 0.975)\n",
        "print(f\"Confidence interval based on bootstrap is [{round(l1, 4)}, {round(h1, 4)}]\")\n"
      ],
      "metadata": {
        "colab": {
          "base_uri": "https://localhost:8080/"
        },
        "id": "f-XxgWnITE7A",
        "outputId": "865c78f0-11c2-461d-920b-a2fca45b59b1"
      },
      "execution_count": 38,
      "outputs": [
        {
          "output_type": "stream",
          "name": "stdout",
          "text": [
            "Confidence interval based on bootstrap is [-0.2175, 1.2368]\n"
          ]
        }
      ]
    },
    {
      "cell_type": "markdown",
      "source": [
        "###b"
      ],
      "metadata": {
        "id": "FcdrPVTcSk6w"
      }
    },
    {
      "cell_type": "code",
      "source": [
        "p1 = (sum(big_income_sample[\"Z\"])+1) / (big_size + 2)\n",
        "p2 = (sum(small_income_sample[\"Z\"])+1) / (small_size + 2)\n",
        "Ψ3 = odd_ratio(p1) - odd_ratio(p2)\n",
        "print(f\"Ψ is {Ψ3}\")"
      ],
      "metadata": {
        "colab": {
          "base_uri": "https://localhost:8080/"
        },
        "id": "Nv_5V6OGTJAn",
        "outputId": "beda16e8-068f-4ace-92a0-dc974bbe5647"
      },
      "execution_count": 39,
      "outputs": [
        {
          "output_type": "stream",
          "name": "stdout",
          "text": [
            "Ψ is 0.5513398786315631\n"
          ]
        }
      ]
    },
    {
      "cell_type": "code",
      "source": [
        "n = 1000\n",
        "values = []\n",
        "for i in range(n):\n",
        "    p1_uni = np.random.beta(sum(big_income_sample[\"Z\"])+1, big_size - sum(big_income_sample[\"Z\"])+1)\n",
        "    p2_uni = np.random.beta(sum(small_income_sample[\"Z\"])+1, small_size - sum(small_income_sample[\"Z\"])+1)\n",
        "    Ψ4 = odd_ratio(p1_uni) - odd_ratio(p2_uni)\n",
        "    values.append(Ψ4)\n",
        "l2 = quantaile(values, 0.025)\n",
        "h2 = quantaile(values, 0.975)\n",
        "print(f\"The credible interval is [{round(l2, 4)}, {round(h2, 4)}]\")\n"
      ],
      "metadata": {
        "colab": {
          "base_uri": "https://localhost:8080/"
        },
        "id": "mBTlYgm_TJXj",
        "outputId": "574687b9-bad5-46a3-a9eb-b25c9a8a8950"
      },
      "execution_count": 40,
      "outputs": [
        {
          "output_type": "stream",
          "name": "stdout",
          "text": [
            "The credible interval is [-0.204, 1.2086]\n"
          ]
        }
      ]
    },
    {
      "cell_type": "markdown",
      "source": [
        "###c"
      ],
      "metadata": {
        "id": "bJiqpOmrSyRH"
      }
    },
    {
      "cell_type": "code",
      "source": [
        "big_a, big_b = (sum(big_income_sample[\"Z\"])+0.5, big_size-sum(big_income_sample[\"Z\"])+0.5)\n",
        "p1_jeffrey = big_a / (big_a + big_b)\n",
        "small_a, small_b = (sum(small_income_sample[\"Z\"])+0.5, small_size-sum(small_income_sample[\"Z\"])+0.5)\n",
        "p2_jeffrey = small_a / (small_a + small_b)\n",
        "Ψ5 = odd_ratio(p1_jeffrey) - odd_ratio(p2_jeffrey)\n",
        "print(f\"Ψ is {Ψ5}\")\n"
      ],
      "metadata": {
        "colab": {
          "base_uri": "https://localhost:8080/"
        },
        "id": "UGYRY6uITNLQ",
        "outputId": "58186db5-a196-4d8b-d512-5dd91b2f1e48"
      },
      "execution_count": 41,
      "outputs": [
        {
          "output_type": "stream",
          "name": "stdout",
          "text": [
            "Ψ is 0.5489277818804106\n"
          ]
        }
      ]
    },
    {
      "cell_type": "code",
      "source": [
        "n = 1000\n",
        "values = []\n",
        "for i in range(n):\n",
        "    p1_jef = np.random.beta(big_a, big_b)\n",
        "    p2_jef = np.random.beta(small_a, small_b)\n",
        "    Ψ6 = odd_ratio(p1_jef) - odd_ratio(p2_jef)\n",
        "    values.append(Ψ6)\n",
        "l3 = quantaile(values, 0.025)\n",
        "h3 = quantaile(values, 0.975)\n",
        "print(f\"The credible interval is [{round(l3, 4)}, {round(h3, 4)}]\")"
      ],
      "metadata": {
        "colab": {
          "base_uri": "https://localhost:8080/"
        },
        "id": "7YUR-BciTNTy",
        "outputId": "4f182148-0e53-419c-8a69-4464609946e1"
      },
      "execution_count": 42,
      "outputs": [
        {
          "output_type": "stream",
          "name": "stdout",
          "text": [
            "The credible interval is [-0.2018, 1.2425]\n"
          ]
        }
      ]
    },
    {
      "cell_type": "markdown",
      "source": [
        "###d"
      ],
      "metadata": {
        "id": "QCbj7OjRSzYT"
      }
    },
    {
      "cell_type": "code",
      "source": [
        "𝜏 = np.median(copy[\"hours-per-week\"])\n",
        "z = lambda hours_per_week: int(hours_per_week > 𝜏)\n",
        "past[\"Z\"] = past[\"hours-per-week\"].apply(z)\n",
        "big_income_past = past[past[\"income\"] == \">50K\"]\n",
        "small_income_past = past[past[\"income\"] == \"<=50K\"]\n",
        "big_past_size = big_income_past.shape[0]\n",
        "small_past_size = small_income_past.shape[0]\n",
        "big_a = sum(big_income_sample[\"Z\"]) + sum(big_income_past[\"Z\"]) + 1\n",
        "big_b = big_size + big_past_size - (sum(big_income_sample[\"Z\"]) + sum(big_income_past[\"Z\"]))\n",
        "small_a = sum(small_income_sample[\"Z\"]) + sum(small_income_past[\"Z\"]) + 1\n",
        "small_b = small_size + small_past_size -(sum(small_income_sample[\"Z\"]) + sum(small_income_past[\"Z\"]))\n",
        "p1_past = big_a / (big_a + big_b)\n",
        "p2_past = small_a / (small_a + small_b)\n",
        "Ψ7 = odd_ratio(p1_past) - odd_ratio(p2_past)\n",
        "print(f\"Ψ is {Ψ7}\")"
      ],
      "metadata": {
        "colab": {
          "base_uri": "https://localhost:8080/"
        },
        "id": "xhUi8qXPTQxq",
        "outputId": "17b8e682-38ee-4d30-86a5-985eebff1e4e"
      },
      "execution_count": 43,
      "outputs": [
        {
          "output_type": "stream",
          "name": "stdout",
          "text": [
            "Ψ is 0.8144458704413141\n"
          ]
        }
      ]
    },
    {
      "cell_type": "code",
      "source": [
        "n = 1000\n",
        "values = []\n",
        "for i in range(n):\n",
        "    past_p1_sim = np.random.beta(big_a, big_b)\n",
        "    past_p2_sim = np.random.beta(small_a, small_b)\n",
        "    Ψ8 = odd_ratio(past_p1_sim) - odd_ratio(past_p2_sim)\n",
        "    values.append(Ψ8)\n",
        "l4 = quantaile(values, 0.025)\n",
        "h4 = quantaile(values, 0.975)\n",
        "print(f\"The credible interval is [{round(l4, 4)}, {round(h4, 4)}]\")"
      ],
      "metadata": {
        "colab": {
          "base_uri": "https://localhost:8080/"
        },
        "id": "kBhLxihhTQ5_",
        "outputId": "17ab55c4-b19d-4371-c9bb-3ee1a0e111d5"
      },
      "execution_count": 44,
      "outputs": [
        {
          "output_type": "stream",
          "name": "stdout",
          "text": [
            "The credible interval is [0.5296, 1.0863]\n"
          ]
        }
      ]
    },
    {
      "cell_type": "markdown",
      "source": [
        "e"
      ],
      "metadata": {
        "id": "g5x8DoUcS0bV"
      }
    },
    {
      "cell_type": "markdown",
      "source": [
        "<div dir=\"rtl\"></br>\n",
        "ניתן לראות שהאומדים בסעיפים הראשונים יצאו קרובים אחד לשני באופן יחסי וכולם גדולים מ-0. קיבלנו אומדים מובהקים לכך שההסתברות שמספר שעות העבודה בשבוע עבור אנשים שהרוויחו יותר מ50 אלף דולר בשנה יהיה מעל התאו שבחרנו (חציון), יותר גדולה מההסתברות עבור אנשים שהרוויחו פחות מ50 אלף דולר בשנה.\n",
        "</div>"
      ],
      "metadata": {
        "id": "XNbHc6oITYai"
      }
    },
    {
      "cell_type": "markdown",
      "source": [
        "#Part 2 - Missing Data\n"
      ],
      "metadata": {
        "id": "UPGIIlkW3AhB"
      }
    },
    {
      "cell_type": "markdown",
      "source": [
        "<div dir=\"rtl\">\n",
        "בחרנו בשלושת המשתנים המסבירים הבאים: גיל (age), מספר השכלה  (educational-num) מתאר את רמת ההשכלה של אדם בסט הנתונים בין 1-16 ורווחי הון (capital-gain).\n",
        "עבור המשתנה המוסבר בחרנו במספר שעות העבודה השבועיות(hours-per-week) .\n",
        "\n",
        "</div>"
      ],
      "metadata": {
        "id": "zfcQD4vx3jgG"
      }
    },
    {
      "cell_type": "markdown",
      "source": [
        "##1"
      ],
      "metadata": {
        "id": "S9OSZrQK3MTa"
      }
    },
    {
      "cell_type": "code",
      "source": [
        "\n",
        "\n",
        "import pandas as pd\n",
        "import numpy as np\n",
        "import matplotlib.pyplot as plt\n",
        "import seaborn as sns\n",
        "import scipy.stats as stats\n",
        "from statsmodels.graphics.gofplots import qqplot\n",
        "from scipy.stats import norm\n",
        "import statsmodels.api as sm\n",
        "from sklearn.linear_model import LogisticRegression\n",
        "from IPython import display\n",
        "df = pd.read_csv(r'adult.csv')\n",
        "df['x0']=1\n",
        "df = df[['x0','age', 'educational-num', 'capital-gain','hours-per-week']]\n",
        "original_size = df.shape[0]\n",
        "df.dropna(how='any', inplace=True)\n",
        "no_null_size = df.shape[0]\n",
        "df.insert(loc=0, column='intercept', value=1)\n"
      ],
      "metadata": {
        "id": "VpYiZ31wHv1E"
      },
      "execution_count": 45,
      "outputs": []
    },
    {
      "cell_type": "code",
      "source": [
        "\n",
        "sample =df.sample(n=1000, random_state=42)\n",
        "X_variables = ['x0','age', 'educational-num', 'capital-gain']\n",
        "y_variable = 'hours-per-week'\n",
        "X = df[X_variables]\n",
        "y = df[y_variable]\n",
        "X_sample = sample[X_variables]\n",
        "y_sample = sample[y_variable]\n",
        "beta_dict = {}\n",
        "MSE_record = []\n",
        "CI_dict = {\"full data\":[], \"no missing data\":[],\n",
        " \"regression imputation\":[], \"multiple imputation\":[], \"IPW\":[]}\n",
        "beta_df = pd.DataFrame(columns = X_variables,index = [\"full data\", \"no missing data\",\n",
        " \"regression imputation\", \"multiple imputation\", \"IPW\"])"
      ],
      "metadata": {
        "id": "jNvZxXXlpybO"
      },
      "execution_count": 46,
      "outputs": []
    },
    {
      "cell_type": "markdown",
      "source": [
        "##2"
      ],
      "metadata": {
        "id": "ImFOhf9mHyA7"
      }
    },
    {
      "cell_type": "code",
      "source": [
        "z_alpha = stats.norm.ppf(0.975)\n",
        "def calculate_beta(X, y):\n",
        " # Calculate MLE\n",
        " C = X.T @ X\n",
        " C_inv = np.linalg.inv(C)\n",
        " C_inv_X = C_inv @ X.T\n",
        " beta = C_inv_X @ y\n",
        " return np.round(beta, 4)\n",
        "\n",
        "def beta_CI(X, y, beta_sample, X_variables):\n",
        " n = X.shape[0]\n",
        " p = X.shape[1]\n",
        " C = np.linalg.inv(X.T @ X)\n",
        " e = y - np.dot(X, beta_sample) #residuals\n",
        " res_var_estimate = (1 / (n - p)) * (e.T @ e) #sigma-hat squared\n",
        " CI = []\n",
        " for i, variable in enumerate(X_variables):\n",
        "  std_estimate = np.sqrt(res_var_estimate * (C[i][i])) #SE of Beta_i\n",
        "  CI.append(np.round([beta_sample[i] - z_alpha * std_estimate,\n",
        "  beta_sample[i] + z_alpha * std_estimate], 4))\n",
        " return CI\n",
        "\n",
        "\n",
        " \n",
        "sample_test=sample\n",
        "sample_test['x0'] = 1\n",
        "X = sample_test[['x0','age', 'educational-num', 'capital-gain']]\n",
        "y = sample_test['hours-per-week'].to_numpy()\n",
        "# 1.a\n",
        "CI_list=[]\n",
        "beta_cova = np.dot(np.dot(np.linalg.inv(np.dot(X.T, X)), X.T), y) \n",
        "# beta_cova =calculate_beta(X,y) \n",
        "C=np.linalg.inv(np.dot(X.T, X))\n",
        "y_cova=np.dot(X,beta_cova)\n",
        "sigma_square_epsilon=np.sum((y-y_cova)**2)/len(y)\n",
        "se_vector=[]\n",
        "for b in range(len(beta_cova)):\n",
        "  print( f\"estimator for the beta {b}: {beta_cova[b]:.6f}\")\n",
        "for i in range(len(beta_cova)):\n",
        "  se_vector.append(np.sqrt(sigma_square_epsilon*C[i][i]))\n",
        "for i, b in enumerate(beta_cova):\n",
        "  CI_list.append((b-2*se_vector[i],b+2*se_vector[i]))\n",
        "  CI_dict['full data'].append((b-2*se_vector[i],b+2*se_vector[i]))\n",
        "\n",
        "  print(\"CI for beta\",i ,\"is\",(b-2*se_vector[i],b+2*se_vector[i]))\n",
        "beta_dict['full data'] = beta_cova\n"
      ],
      "metadata": {
        "id": "kNnCxYTb3S2i",
        "colab": {
          "base_uri": "https://localhost:8080/"
        },
        "outputId": "7024a5f8-5732-4298-e139-2b2f296ef0ad"
      },
      "execution_count": 47,
      "outputs": [
        {
          "output_type": "stream",
          "name": "stdout",
          "text": [
            "estimator for the beta 0: 33.755290\n",
            "estimator for the beta 1: 0.046677\n",
            "estimator for the beta 2: 0.462504\n",
            "estimator for the beta 3: 0.000112\n",
            "CI for beta 0 is (30.170730009695742, 37.33985048067626)\n",
            "CI for beta 1 is (-0.006977638068682748, 0.10033223718342853)\n",
            "CI for beta 2 is (0.1689943771545872, 0.7560145372367602)\n",
            "CI for beta 3 is (2.3723199671409686e-06, 0.0002208899318341394)\n"
          ]
        }
      ]
    },
    {
      "cell_type": "markdown",
      "source": [
        "##3"
      ],
      "metadata": {
        "id": "UmtEfySq92Zv"
      }
    },
    {
      "cell_type": "code",
      "source": [
        "# df_modified = sample.copy()\n",
        "\n",
        "def probability_function(value):\n",
        "    return value / 500\n",
        "\n",
        "# Create a Bernoulli variable to select the values to replace with NAN\n",
        "p = sample['hours-per-week'].apply(probability_function)\n",
        "selected_index = np.random.choice(sample.index, size=500, p=p/p.sum(), replace=False)\n",
        "\n",
        "# Replace the selected values with NAN\n",
        "sample.loc[selected_index, 'hours-per-week'] = np.nan\n",
        "inntial_sample=sample.copy()\n"
      ],
      "metadata": {
        "id": "jGYdn9FA6YY5"
      },
      "execution_count": 48,
      "outputs": []
    },
    {
      "cell_type": "markdown",
      "source": [
        "##4."
      ],
      "metadata": {
        "id": "44aw5RqxH5I5"
      }
    },
    {
      "cell_type": "markdown",
      "source": [
        "###a"
      ],
      "metadata": {
        "id": "z4LHCaEPH99N"
      }
    },
    {
      "cell_type": "code",
      "source": [
        "sample_clean=sample.dropna()\n"
      ],
      "metadata": {
        "id": "JNMdOg1h7j4q"
      },
      "execution_count": 49,
      "outputs": []
    },
    {
      "cell_type": "code",
      "source": [
        "\n",
        "\n",
        "\n",
        "\n",
        "X_missing = X_sample[sample['hours-per-week'].isnull()==False]\n",
        "y_missing = y_sample[sample['hours-per-week'].isnull()==False]\n",
        "beta_missing = calculate_beta(X_missing, y_missing).to_numpy()\n",
        "CI_missing = beta_CI(X_missing, y_missing, beta_missing, X_variables)\n",
        "print(f'Beta = {beta_missing}')\n",
        "for i in range(beta_missing.size):\n",
        " CI_dict['no missing data'].append(CI_missing[i])\n",
        " print(f\"CI for beta_{i} is: {CI_missing[i]}\")\n",
        "beta_dict['seen data'] = beta_missing\n",
        "\n"
      ],
      "metadata": {
        "id": "KDqQqxPBHP_j",
        "colab": {
          "base_uri": "https://localhost:8080/"
        },
        "outputId": "bdf7c464-7048-45b5-bc54-52610b1eed79"
      },
      "execution_count": 50,
      "outputs": [
        {
          "output_type": "stream",
          "name": "stdout",
          "text": [
            "Beta = [2.92438e+01 3.50000e-02 7.43300e-01 1.00000e-04]\n",
            "CI for beta_0 is: [24.2406 34.247 ]\n",
            "CI for beta_1 is: [-0.0391  0.1091]\n",
            "CI for beta_2 is: [0.3252 1.1614]\n",
            "CI for beta_3 is: [-0.0001  0.0003]\n"
          ]
        }
      ]
    },
    {
      "cell_type": "markdown",
      "source": [
        "###b"
      ],
      "metadata": {
        "id": "EOVhk1ZLIgMM"
      }
    },
    {
      "cell_type": "code",
      "source": [
        "# calculating beta hat using the not missing data features\n",
        "# using the beta hat form the prevuies section to predict the missing data in \"hours-per-week\"\n",
        "regression_imnputation_df=sample\n",
        "\n",
        "# regression_imnputation_df = sample.apply(lambda x: x.fillna(np.dot(X,beta_cova)), axis=1)\n",
        "regression_imnputation_df['hours-per-week'] = regression_imnputation_df.apply(lambda x: x['x0']*beta_cova[0]+\n",
        "                  x['age']*beta_cova[1]+x['educational-num']*beta_cova[2]+x['capital-gain']*beta_cova[3] \n",
        "                  if np.isnan(x['hours-per-week']) else x['hours-per-week'], axis=1)\n",
        "sample_test=regression_imnputation_df.copy()\n",
        "sample_test['x0'] = 1\n",
        "X = sample_test[['x0','age', 'educational-num', 'capital-gain']]\n",
        "y = sample_test['hours-per-week'].to_numpy()\n",
        "beta_cova = np.dot(np.dot(np.linalg.inv(np.dot(X.T, X)), X.T), y) \n",
        "print(\"the estimators for beta hat is:\", beta_cova)\n",
        "C=np.linalg.inv(np.dot(X.T, X))\n",
        "y_cova=np.dot(X,beta_cova)\n",
        "sigma_square_epsilon=np.sum((y-y_cova)**2)/len(y)\n",
        "se_vector=[]\n",
        "for i in range(len(beta_cova)):\n",
        "  se_vector.append(np.sqrt(sigma_square_epsilon*C[i][i]))\n",
        "for i, b in enumerate(beta_cova):\n",
        "  print(\"CI for beta\",i ,\"is\",(b-2*se_vector[i],b+2*se_vector[i]))\n",
        "  CI_dict['regression imputation'].append((b-2*se_vector[i],b+2*se_vector[i]))\n",
        "beta_dict['regression imputation'] = beta_cova\n"
      ],
      "metadata": {
        "id": "UySHVAheWbn0",
        "colab": {
          "base_uri": "https://localhost:8080/"
        },
        "outputId": "45dc1260-6e68-48c6-c128-c609287074c1"
      },
      "execution_count": 51,
      "outputs": [
        {
          "output_type": "stream",
          "name": "stdout",
          "text": [
            "the estimators for beta hat is: [3.13765409e+01 4.00132098e-02 6.18022272e-01 8.41005402e-05]\n",
            "CI for beta 0 is (28.726096534988233, 34.02698527633123)\n",
            "CI for beta 1 is (0.00034044161591158945, 0.07968597805394531)\n",
            "CI for beta 2 is (0.40099923728450604, 0.8350453061316884)\n",
            "CI for beta 3 is (3.3139532450406284e-06, 0.0001648871271398999)\n"
          ]
        }
      ]
    },
    {
      "cell_type": "code",
      "source": [
        "argsort_y = np.argsort(sample['hours-per-week'])\n",
        "hours_missing = []\n",
        "for record, idx in zip(sample['hours-per-week'], argsort_y):\n",
        " p = 0.2 + (0.0006 * idx)\n",
        " missing = np.random.binomial(1, p)\n",
        " if missing == 0:\n",
        "   hours_missing.append(record)\n",
        " else:\n",
        "   hours_missing.append(None)\n",
        "sample['hours_missing'] = hours_missing"
      ],
      "metadata": {
        "id": "IzeiQSnr2FqC"
      },
      "execution_count": 52,
      "outputs": []
    },
    {
      "cell_type": "markdown",
      "source": [
        "###C"
      ],
      "metadata": {
        "id": "-z3oimYDw3IU"
      }
    },
    {
      "cell_type": "code",
      "source": [
        "#multiple imputation using M=100 \n",
        "import statsmodels.api as sm\n",
        "\n",
        "\n",
        "\n",
        "M=100\n",
        "\n",
        "\n",
        "X_test = sample_test[['x0','age', 'educational-num', 'capital-gain']]\n",
        "y_test = sample_test['hours-per-week'].to_numpy()\n",
        "noise = np.random.normal(0, 1, size=M)\n",
        "Y_i=[]\n",
        "\n",
        "full_model = sm.OLS(y_test,X_test).fit()\n",
        "multiple_imputation_df=sample.copy()\n",
        "\n",
        "\n",
        "# noise = np.random.normal(0, 1, size=M)\n",
        "X = pd.DataFrame(X)\n",
        "\n",
        "\n",
        "sd_estimator = full_model.mse_resid**0.5\n",
        "beta_mat = []\n",
        "Ylist=[]\n",
        "var_mat = np.zeros((M,4))\n",
        "C = np.linalg.inv(X.T @ X)\n",
        "for m in range(M):\n",
        "  tmp = [np.random.normal(np.dot(X.iloc[i],full_model.params), sd_estimator, size=1)[0] if pd.isnull(sample['hours_missing'].iloc[i])\n",
        "   else sample['hours_missing'].iloc[i] for i in range(len(X))]\n",
        "\n",
        "  hours_mul = np.array(tmp)\n",
        "  \n",
        "  model = sm.OLS(hours_mul,X).fit()\n",
        "  for i in range(4):\n",
        "     var_mat[m][i] = model.mse_resid * C[i][i]\n",
        "  beta_mat.append(model.params)\n",
        "beta_multiple = np.average(beta_mat,axis=0)\n",
        "print(\" beta estimator based on multiple imputation\")\n",
        "print(f'{beta_multiple} ') # the other way\n",
        "beta_dict['multiple imputation'] = beta_multiple\n"
      ],
      "metadata": {
        "id": "33XH38IMmDjh",
        "colab": {
          "base_uri": "https://localhost:8080/"
        },
        "outputId": "50eb197a-cb5a-4f9a-f1bf-80397914bfae"
      },
      "execution_count": 53,
      "outputs": [
        {
          "output_type": "stream",
          "name": "stdout",
          "text": [
            " beta estimator based on multiple imputation\n",
            "[3.23337411e+01 1.86077032e-02 5.84809894e-01 9.21739637e-05] \n"
          ]
        }
      ]
    },
    {
      "cell_type": "markdown",
      "source": [
        "###d"
      ],
      "metadata": {
        "id": "5vi_UtvL6CXZ"
      }
    },
    {
      "cell_type": "code",
      "source": [
        "# # # need to be completed\n",
        "X = multiple_imputation_df[['x0','age', 'educational-num', 'capital-gain']]\n",
        "\n",
        "\n",
        "rubin_var = np.zeros(4)\n",
        "beta_mat_avg = np.average(var_mat,axis=0)\n",
        "beta_difference = np.average((beta_mat - beta_multiple)**2,axis=0)\n",
        "for i in range(4):\n",
        " rubin_var[i] = beta_mat_avg[i] + ((M+1)/(M-1))*beta_difference[i]\n",
        "print(f'{rubin_var} = Rubin variance for beta')\n",
        "print(f'{np.round(beta_multiple,2)} = beta estimator based on multiple imputation') # th\n",
        "for i in range(4):\n",
        " CI = np.round([beta_multiple[i] - z_alpha*np.sqrt(rubin_var[0]),\n",
        " beta_multiple[i] + z_alpha*np.sqrt(rubin_var[1])],2)\n",
        " print(f'CI for beta {i} with se based on Rubin variance: {CI}')\n",
        " CI_dict['multiple imputation'].append(CI)\n",
        "\n"
      ],
      "metadata": {
        "id": "RFNHuXxxxbc_",
        "colab": {
          "base_uri": "https://localhost:8080/"
        },
        "outputId": "9ef46c0d-2259-4b73-a3bc-a92811c76604"
      },
      "execution_count": 54,
      "outputs": [
        {
          "output_type": "stream",
          "name": "stdout",
          "text": [
            "[2.83854281e+00 5.94226085e-04 1.78627560e-02 3.23503675e-09] = Rubin variance for beta\n",
            "[3.233e+01 2.000e-02 5.800e-01 0.000e+00] = beta estimator based on multiple imputation\n",
            "CI for beta 0 with se based on Rubin variance: [29.03 32.38]\n",
            "CI for beta 1 with se based on Rubin variance: [-3.28  0.07]\n",
            "CI for beta 2 with se based on Rubin variance: [-2.72  0.63]\n",
            "CI for beta 3 with se based on Rubin variance: [-3.3   0.05]\n"
          ]
        }
      ]
    },
    {
      "cell_type": "markdown",
      "source": [
        "###e"
      ],
      "metadata": {
        "id": "HiX0ro4oAtUh"
      }
    },
    {
      "cell_type": "code",
      "source": [
        "from sklearn.linear_model import LogisticRegression\n",
        "from sklearn.model_selection import train_test_split\n",
        "# transfirm missing data to binary\n",
        "inntial_sample['x0'] = 1\n",
        "\n",
        "X = inntial_sample[['x0', 'age', 'educational-num', 'capital-gain']].to_numpy()\n",
        "\n",
        "inntial_sample[\"missing\"] = np.where(np.isnan(inntial_sample[\"hours-per-week\"]), 0, 1)\n",
        "\n",
        "y = inntial_sample['missing'].to_numpy()\n",
        "\n",
        "\n",
        "reg=LogisticRegression(penalty='none',fit_intercept=False).fit(X,y)\n",
        "# Predict the probability of missing data for each variable in the data\n",
        "missing_prob = reg.predict_proba(X)[:,1]\n",
        "\n",
        "# Find the general probability of missing data\n",
        "general_prob = missing_prob.mean()\n",
        "\n",
        "# Predict the probability of missing data for each variable in the test data\n",
        "general_prob"
      ],
      "metadata": {
        "id": "OLXpzn_BAuob",
        "colab": {
          "base_uri": "https://localhost:8080/"
        },
        "outputId": "2a45044d-117f-43a3-8929-2ea5b0e86ec0"
      },
      "execution_count": 55,
      "outputs": [
        {
          "output_type": "execute_result",
          "data": {
            "text/plain": [
              "0.4996045187650044"
            ]
          },
          "metadata": {},
          "execution_count": 55
        }
      ]
    },
    {
      "cell_type": "code",
      "source": [
        "from sklearn.linear_model import LogisticRegression\n",
        "\n",
        "X = inntial_sample[['x0', 'age', 'educational-num', 'capital-gain']].to_numpy()\n",
        "y = inntial_sample['missing'].to_numpy()\n",
        "reg=LogisticRegression(penalty='none',fit_intercept=False).fit(X,y)\n",
        "betas=reg.coef_\n",
        "probabilty= 1 / (1 + np.exp(-np.dot(X,betas.T)))\n",
        "print(probabilty.mean())\n",
        "\n"
      ],
      "metadata": {
        "id": "0_t5u2htRp10",
        "colab": {
          "base_uri": "https://localhost:8080/"
        },
        "outputId": "ec40aed7-0bc9-4eb5-e8e4-3a675bacc29f"
      },
      "execution_count": 56,
      "outputs": [
        {
          "output_type": "stream",
          "name": "stdout",
          "text": [
            "0.4996045187650044\n"
          ]
        }
      ]
    },
    {
      "cell_type": "markdown",
      "source": [
        "###f"
      ],
      "metadata": {
        "id": "28MOJcgrWKvP"
      }
    },
    {
      "cell_type": "code",
      "source": [
        "import numpy as np\n",
        "import pandas as pd\n",
        "from sklearn.linear_model import LogisticRegression, LinearRegression\n",
        "from sklearn.utils import resample\n",
        "focus_df=inntial_sample[['x0', 'age', 'educational-num', 'capital-gain','missing']]\n",
        "# load data into a pandas dataframe\n",
        "log_reg = LogisticRegression()\n",
        "log_reg.fit(inntial_sample[['x0', 'age', 'educational-num', 'capital-gain']], inntial_sample['missing'])\n",
        "inntial_sample[\"missing\"] = np.where(np.isnan(inntial_sample[\"hours-per-week\"]), 1, 0)\n",
        "\n",
        "# calculate weights\n",
        "weights = 1 / log_reg.predict_proba(inntial_sample[['x0', 'age', 'educational-num', 'capital-gain']])[:,1]\n",
        "\n",
        "# fit weighted linear regression model\n",
        "lin_reg = LinearRegression()\n",
        "lin_reg.fit(inntial_sample.loc[inntial_sample['missing'] == 0, ['x0', 'age', 'educational-num', 'capital-gain']], \n",
        "            inntial_sample.loc[inntial_sample['missing'] == 0, 'hours-per-week'], \n",
        "            sample_weight=weights[inntial_sample['missing'] == 0])\n",
        "\n",
        "# print IPW estimators for linear regression coefficients\n",
        "print(f\"estimator for beta {0}: {lin_reg.intercept_:.6f} \")\n",
        "beta_IPW=[]\n",
        "beta_IPW.append(lin_reg.intercept_)\n",
        "for i in range(1,len(lin_reg.coef_)):\n",
        "    print(f\"estimator for beta {i}: {lin_reg.coef_[i]:.6f}\")\n",
        "    beta_IPW.append(lin_reg.coef_[i]) \n",
        "\n",
        "beta_dict['IPW'] = beta_IPW\n",
        "\n",
        "\n",
        "\n"
      ],
      "metadata": {
        "colab": {
          "base_uri": "https://localhost:8080/"
        },
        "id": "HRo0DccVsERk",
        "outputId": "c28ab1bb-9949-4f60-c178-8884c99e112b"
      },
      "execution_count": 57,
      "outputs": [
        {
          "output_type": "stream",
          "name": "stdout",
          "text": [
            "estimator for beta 0: 29.247794 \n",
            "estimator for beta 1: 0.034941\n",
            "estimator for beta 2: 0.743262\n",
            "estimator for beta 3: 0.000060\n"
          ]
        }
      ]
    },
    {
      "cell_type": "markdown",
      "source": [
        "##g"
      ],
      "metadata": {
        "id": "9v_ko2rb0Q4K"
      }
    },
    {
      "cell_type": "code",
      "source": [
        "from sklearn.utils import resample\n",
        "\n",
        "# fit linear regression model on original data\n",
        "\n",
        "\n",
        "# number of bootstrap samples\n",
        "n_samples = 100\n",
        "X=inntial_sample.loc[inntial_sample['missing'] == 0, ['x0', 'age', 'educational-num', 'capital-gain']]\n",
        "y=inntial_sample.loc[inntial_sample['missing'] == 0, 'hours-per-week']\n",
        "# create empty array to store bootstrap samples\n",
        "coefs_bootstrap = np.zeros((n_samples, len(lin_reg.coef_)))\n",
        "intercept_bootsrap=[]\n",
        "# perform bootstrap\n",
        "for i in range(n_samples):\n",
        "    X_resample, y_resample = resample(X, y)\n",
        "    lin_reg_resample = LinearRegression()\n",
        "    weights = 1 / log_reg.predict_proba(X_resample[['x0', 'age', 'educational-num', 'capital-gain']])[:,1]\n",
        "    lin_reg_resample.fit(X_resample, y_resample,sample_weight=weights)\n",
        "    coefs_bootstrap[i, :] = lin_reg_resample.coef_\n",
        "    intercept_bootsrap.append(lin_reg_resample.intercept_)\n",
        "\n",
        "# calculate lower and upper bounds of CI\n",
        "alpha = 0.05\n",
        "lower = np.percentile(coefs_bootstrap, 0.025, axis=0)\n",
        "upper = np.percentile(coefs_bootstrap, 0.975, axis=0)\n",
        "lower_intercept = np.percentile(intercept_bootsrap, (alpha/2)*100, axis=0)\n",
        "upper_intercept = np.percentile(intercept_bootsrap, (1-alpha/2)*100, axis=0)\n",
        "\n",
        "# print CI\n",
        "print(f\" beta {0}:  (CI: {lower_intercept:.6f}, {upper_intercept:.6f})\")\n",
        "CI_dict['IPW'].append((lower_intercept,upper_intercept))\n",
        "\n",
        "for i in range(1,len(lin_reg.coef_)):\n",
        "    print(f\" beta {i}:(CI: {lower[i]:.6f}, {upper[i]:.6f})\")\n",
        "    CI_dict['IPW'].append((lower[i],upper[i]))\n"
      ],
      "metadata": {
        "colab": {
          "base_uri": "https://localhost:8080/"
        },
        "id": "XsxWaQW90TTr",
        "outputId": "f4efef16-0fe5-477f-fc2c-c36584c1971e"
      },
      "execution_count": 58,
      "outputs": [
        {
          "output_type": "stream",
          "name": "stdout",
          "text": [
            " beta 0:  (CI: 23.260833, 33.759006)\n",
            " beta 1:(CI: -0.088940, -0.078536)\n",
            " beta 2:(CI: 0.146576, 0.194248)\n",
            " beta 3:(CI: -0.000008, 0.000001)\n"
          ]
        }
      ]
    },
    {
      "cell_type": "code",
      "source": [
        "beta_df = pd.DataFrame(columns = X_variables,index = [\"full data\", \"no missing data\",\n",
        "                                                      \"regression imputation\", \"multiple imputation\", \"IPW\"])\n",
        "for ind, key in zip(beta_df.index,beta_dict.keys()):\n",
        " beta_df.loc[ind] = beta_dict[key]\n",
        "beta_df\n"
      ],
      "metadata": {
        "colab": {
          "base_uri": "https://localhost:8080/",
          "height": 206
        },
        "id": "1GBOK_rD4dNv",
        "outputId": "315c84d5-64c5-439b-a54b-73a93ef77af9"
      },
      "execution_count": 59,
      "outputs": [
        {
          "output_type": "execute_result",
          "data": {
            "text/plain": [
              "                              x0       age educational-num capital-gain\n",
              "full data               33.75529  0.046677        0.462504     0.000112\n",
              "no missing data          29.2438     0.035          0.7433       0.0001\n",
              "regression imputation  31.376541  0.040013        0.618022     0.000084\n",
              "multiple imputation    32.333741  0.018608         0.58481     0.000092\n",
              "IPW                    29.247794  0.034941        0.743262      0.00006"
            ],
            "text/html": [
              "\n",
              "  <div id=\"df-7aa24f10-cd0a-44ad-9fdd-445dbbb8a11c\">\n",
              "    <div class=\"colab-df-container\">\n",
              "      <div>\n",
              "<style scoped>\n",
              "    .dataframe tbody tr th:only-of-type {\n",
              "        vertical-align: middle;\n",
              "    }\n",
              "\n",
              "    .dataframe tbody tr th {\n",
              "        vertical-align: top;\n",
              "    }\n",
              "\n",
              "    .dataframe thead th {\n",
              "        text-align: right;\n",
              "    }\n",
              "</style>\n",
              "<table border=\"1\" class=\"dataframe\">\n",
              "  <thead>\n",
              "    <tr style=\"text-align: right;\">\n",
              "      <th></th>\n",
              "      <th>x0</th>\n",
              "      <th>age</th>\n",
              "      <th>educational-num</th>\n",
              "      <th>capital-gain</th>\n",
              "    </tr>\n",
              "  </thead>\n",
              "  <tbody>\n",
              "    <tr>\n",
              "      <th>full data</th>\n",
              "      <td>33.75529</td>\n",
              "      <td>0.046677</td>\n",
              "      <td>0.462504</td>\n",
              "      <td>0.000112</td>\n",
              "    </tr>\n",
              "    <tr>\n",
              "      <th>no missing data</th>\n",
              "      <td>29.2438</td>\n",
              "      <td>0.035</td>\n",
              "      <td>0.7433</td>\n",
              "      <td>0.0001</td>\n",
              "    </tr>\n",
              "    <tr>\n",
              "      <th>regression imputation</th>\n",
              "      <td>31.376541</td>\n",
              "      <td>0.040013</td>\n",
              "      <td>0.618022</td>\n",
              "      <td>0.000084</td>\n",
              "    </tr>\n",
              "    <tr>\n",
              "      <th>multiple imputation</th>\n",
              "      <td>32.333741</td>\n",
              "      <td>0.018608</td>\n",
              "      <td>0.58481</td>\n",
              "      <td>0.000092</td>\n",
              "    </tr>\n",
              "    <tr>\n",
              "      <th>IPW</th>\n",
              "      <td>29.247794</td>\n",
              "      <td>0.034941</td>\n",
              "      <td>0.743262</td>\n",
              "      <td>0.00006</td>\n",
              "    </tr>\n",
              "  </tbody>\n",
              "</table>\n",
              "</div>\n",
              "      <button class=\"colab-df-convert\" onclick=\"convertToInteractive('df-7aa24f10-cd0a-44ad-9fdd-445dbbb8a11c')\"\n",
              "              title=\"Convert this dataframe to an interactive table.\"\n",
              "              style=\"display:none;\">\n",
              "        \n",
              "  <svg xmlns=\"http://www.w3.org/2000/svg\" height=\"24px\"viewBox=\"0 0 24 24\"\n",
              "       width=\"24px\">\n",
              "    <path d=\"M0 0h24v24H0V0z\" fill=\"none\"/>\n",
              "    <path d=\"M18.56 5.44l.94 2.06.94-2.06 2.06-.94-2.06-.94-.94-2.06-.94 2.06-2.06.94zm-11 1L8.5 8.5l.94-2.06 2.06-.94-2.06-.94L8.5 2.5l-.94 2.06-2.06.94zm10 10l.94 2.06.94-2.06 2.06-.94-2.06-.94-.94-2.06-.94 2.06-2.06.94z\"/><path d=\"M17.41 7.96l-1.37-1.37c-.4-.4-.92-.59-1.43-.59-.52 0-1.04.2-1.43.59L10.3 9.45l-7.72 7.72c-.78.78-.78 2.05 0 2.83L4 21.41c.39.39.9.59 1.41.59.51 0 1.02-.2 1.41-.59l7.78-7.78 2.81-2.81c.8-.78.8-2.07 0-2.86zM5.41 20L4 18.59l7.72-7.72 1.47 1.35L5.41 20z\"/>\n",
              "  </svg>\n",
              "      </button>\n",
              "      \n",
              "  <style>\n",
              "    .colab-df-container {\n",
              "      display:flex;\n",
              "      flex-wrap:wrap;\n",
              "      gap: 12px;\n",
              "    }\n",
              "\n",
              "    .colab-df-convert {\n",
              "      background-color: #E8F0FE;\n",
              "      border: none;\n",
              "      border-radius: 50%;\n",
              "      cursor: pointer;\n",
              "      display: none;\n",
              "      fill: #1967D2;\n",
              "      height: 32px;\n",
              "      padding: 0 0 0 0;\n",
              "      width: 32px;\n",
              "    }\n",
              "\n",
              "    .colab-df-convert:hover {\n",
              "      background-color: #E2EBFA;\n",
              "      box-shadow: 0px 1px 2px rgba(60, 64, 67, 0.3), 0px 1px 3px 1px rgba(60, 64, 67, 0.15);\n",
              "      fill: #174EA6;\n",
              "    }\n",
              "\n",
              "    [theme=dark] .colab-df-convert {\n",
              "      background-color: #3B4455;\n",
              "      fill: #D2E3FC;\n",
              "    }\n",
              "\n",
              "    [theme=dark] .colab-df-convert:hover {\n",
              "      background-color: #434B5C;\n",
              "      box-shadow: 0px 1px 3px 1px rgba(0, 0, 0, 0.15);\n",
              "      filter: drop-shadow(0px 1px 2px rgba(0, 0, 0, 0.3));\n",
              "      fill: #FFFFFF;\n",
              "    }\n",
              "  </style>\n",
              "\n",
              "      <script>\n",
              "        const buttonEl =\n",
              "          document.querySelector('#df-7aa24f10-cd0a-44ad-9fdd-445dbbb8a11c button.colab-df-convert');\n",
              "        buttonEl.style.display =\n",
              "          google.colab.kernel.accessAllowed ? 'block' : 'none';\n",
              "\n",
              "        async function convertToInteractive(key) {\n",
              "          const element = document.querySelector('#df-7aa24f10-cd0a-44ad-9fdd-445dbbb8a11c');\n",
              "          const dataTable =\n",
              "            await google.colab.kernel.invokeFunction('convertToInteractive',\n",
              "                                                     [key], {});\n",
              "          if (!dataTable) return;\n",
              "\n",
              "          const docLinkHtml = 'Like what you see? Visit the ' +\n",
              "            '<a target=\"_blank\" href=https://colab.research.google.com/notebooks/data_table.ipynb>data table notebook</a>'\n",
              "            + ' to learn more about interactive tables.';\n",
              "          element.innerHTML = '';\n",
              "          dataTable['output_type'] = 'display_data';\n",
              "          await google.colab.output.renderOutput(dataTable, element);\n",
              "          const docLink = document.createElement('div');\n",
              "          docLink.innerHTML = docLinkHtml;\n",
              "          element.appendChild(docLink);\n",
              "        }\n",
              "      </script>\n",
              "    </div>\n",
              "  </div>\n",
              "  "
            ]
          },
          "metadata": {},
          "execution_count": 59
        }
      ]
    },
    {
      "cell_type": "markdown",
      "source": [
        "<div dir=\"rtl\">\n",
        "ניתן לראות שהאומדים קרובים אחד לשני אך לא בצורה מדויקת , ניתן להסיק מכך שהנתונים שלא היו חסרים אינם משקפים את הדאטא במלואו\n",
        "</div>"
      ],
      "metadata": {
        "id": "xkIw3tRiDyla"
      }
    },
    {
      "cell_type": "code",
      "source": [],
      "metadata": {
        "id": "mEj0p4wJEJ9_"
      },
      "execution_count": 59,
      "outputs": []
    },
    {
      "cell_type": "code",
      "source": [
        "questions = [\"full data\", \"no missing data\", \"regression imputation\", \"multiple imputation\",\"IPW\"]\n",
        "for i, beta in enumerate(X_variables):\n",
        " for name, key, y in zip(questions, CI_dict.keys(), [k for k in range(len(questions))]):\n",
        "   plt.plot((CI_dict[key][i][0], CI_dict[key][i][1]), (y,y), 'ro-', color = \"blue\")\n",
        " plt.title(beta)\n",
        " plt.yticks(range(len(questions)), questions)\n",
        " plt.show()\n",
        " plt.figure(figsize=(10,3))"
      ],
      "metadata": {
        "colab": {
          "base_uri": "https://localhost:8080/",
          "height": 928
        },
        "id": "zSpyFbudWMam",
        "outputId": "8922f2b4-1d54-4b98-ebd0-90cee2c924d8"
      },
      "execution_count": 60,
      "outputs": [
        {
          "output_type": "display_data",
          "data": {
            "text/plain": [
              "<Figure size 432x288 with 1 Axes>"
            ],
            "image/png": "[encoded data removed]"
          },
          "metadata": {
            "needs_background": "light"
          }
        },
        {
          "output_type": "display_data",
          "data": {
            "text/plain": [
              "<Figure size 720x216 with 1 Axes>"
            ],
            "image/png": "[encoded data removed]"
          },
          "metadata": {
            "needs_background": "light"
          }
        },
        {
          "output_type": "display_data",
          "data": {
            "text/plain": [
              "<Figure size 720x216 with 1 Axes>"
            ],
            "image/png": "[encoded data removed]"
          },
          "metadata": {
            "needs_background": "light"
          }
        },
        {
          "output_type": "display_data",
          "data": {
            "text/plain": [
              "<Figure size 720x216 with 1 Axes>"
            ],
            "image/png": "[encoded data removed]"
          },
          "metadata": {
            "needs_background": "light"
          }
        },
        {
          "output_type": "display_data",
          "data": {
            "text/plain": [
              "<Figure size 720x216 with 0 Axes>"
            ]
          },
          "metadata": {}
        }
      ]
    },
    {
      "cell_type": "markdown",
      "source": [
        "<div dir=\"rtl\">\n",
        " רוב רווחי הסמך מכילים את הפרמטר האמיתי וחלקם לא כתוצאה מהטיה עקב שימוש במודלים להשלמת ערכים חסרים שמבוססים על רשומות שאינן משקפות את השונות בדאטא\n",
        "</div>"
      ],
      "metadata": {
        "id": "QmYLUeD5ExR7"
      }
    }
  ]
}